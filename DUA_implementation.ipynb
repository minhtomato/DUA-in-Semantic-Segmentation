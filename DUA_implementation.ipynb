{
 "cells": [
  {
   "cell_type": "code",
   "execution_count": 1,
   "metadata": {},
   "outputs": [],
   "source": [
    "import torchvision\n",
    "import torch\n",
    "import train\n",
    "from metrics import StreamSegMetrics\n",
    "from utils import ext_transforms as et\n",
    "import datasets.acdc\n",
    "from torch.utils import data\n",
    "from tqdm import tqdm\n",
    "from datasets import Cityscapes\n",
    "from torchvision import transforms"
   ]
  },
  {
   "cell_type": "code",
   "execution_count": 2,
   "metadata": {},
   "outputs": [],
   "source": [
    "device = 'cuda:0' if torch.cuda.is_available else 'cpu' #device_ids need to be adjusted"
   ]
  },
  {
   "cell_type": "code",
   "execution_count": 3,
   "metadata": {},
   "outputs": [],
   "source": [
    "NUM_CLASSES=19"
   ]
  },
  {
   "cell_type": "code",
   "execution_count": 4,
   "metadata": {},
   "outputs": [
    {
     "data": {
      "text/plain": [
       "<All keys matched successfully>"
      ]
     },
     "execution_count": 4,
     "metadata": {},
     "output_type": "execute_result"
    }
   ],
   "source": [
    "model = torchvision.models.segmentation.deeplabv3_resnet50(num_classes=NUM_CLASSES)\n",
    "model = torch.nn.DataParallel(model, device_ids=[2,1]) #device_ids need to be adjusted\n",
    "model.to(device) \n",
    "checkpoint = torch.load('MODEL_WEIGHTS')\n",
    "model.load_state_dict(checkpoint['model'])"
   ]
  },
  {
   "cell_type": "code",
   "execution_count": 5,
   "metadata": {},
   "outputs": [],
   "source": [
    "train_transform = et.ExtCompose([\n",
    "    et.ExtRandomScale(scale_range=(0.5, 2.0)),\n",
    "    et.ExtRandomCrop(size=(512,1024), pad_if_needed=True),\n",
    "    et.ExtRandomHorizontalFlip(),\n",
    "    et.ExtToTensor(),\n",
    "    et.ExtNormalize(mean=[0.485, 0.456, 0.406],\n",
    "                    std=[0.229, 0.224, 0.225])\n",
    "])\n",
    "\n",
    "to_tensor = et.ExtCompose([et.ExtToTensor()])\n",
    "\n",
    "val_transform = et.ExtCompose([\n",
    "            et.ExtToTensor(),\n",
    "            et.ExtNormalize(mean=[0.485, 0.456, 0.406],\n",
    "                            std=[0.229, 0.224, 0.225])\n",
    "])"
   ]
  },
  {
   "cell_type": "code",
   "execution_count": 7,
   "metadata": {},
   "outputs": [],
   "source": [
    "WEATHER = 'fog' #ACDC Subset"
   ]
  },
  {
   "cell_type": "code",
   "execution_count": 8,
   "metadata": {},
   "outputs": [],
   "source": [
    "validation_set = datasets.acdc.Acdc(r\"PATH TO ACDC SET\", 'val', 'semantic',transform=val_transform, weather=WEATHER)\n",
    "BATCH_SIZE = 1\n",
    "val_loader = data.DataLoader(\n",
    "        validation_set, batch_size=BATCH_SIZE, shuffle=True, num_workers=8,\n",
    "        drop_last=True)"
   ]
  },
  {
   "cell_type": "code",
   "execution_count": 9,
   "metadata": {},
   "outputs": [],
   "source": [
    "tensor_set = datasets.acdc.Acdc(r\"PATH TO ACDC SET\", 'train', 'semantic',transform=to_tensor, weather=WEATHER)\n",
    "BATCH_SIZE = 1\n",
    "tensor_loader = data.DataLoader(\n",
    "        tensor_set, batch_size=BATCH_SIZE, shuffle=True, num_workers=8,\n",
    "        drop_last=True)"
   ]
  },
  {
   "cell_type": "code",
   "execution_count": 9,
   "metadata": {},
   "outputs": [],
   "source": [
    "NUM_CLASSES = 19\n",
    "metrics = StreamSegMetrics(n_classes=NUM_CLASSES)\n",
    "metrics.reset()"
   ]
  },
  {
   "cell_type": "code",
   "execution_count": 68,
   "metadata": {},
   "outputs": [
    {
     "name": "stderr",
     "output_type": "stream",
     "text": [
      "100%|██████████| 100/100 [00:34<00:00,  2.90it/s]\n"
     ]
    }
   ],
   "source": [
    "train.validate(model,device,val_loader,metrics)"
   ]
  },
  {
   "cell_type": "code",
   "execution_count": 10,
   "metadata": {},
   "outputs": [],
   "source": [
    "tr_transform_adapt = transforms.Compose([\n",
    "            transforms.ToPILImage(),\n",
    "            transforms.RandomCrop((512,1024)),\n",
    "            transforms.RandomHorizontalFlip(),\n",
    "            transforms.ToTensor(),\n",
    "            transforms.Normalize(mean=[0.485, 0.456, 0.406], std=[0.229, 0.224, 0.225])\n",
    "        ])"
   ]
  },
  {
   "cell_type": "code",
   "execution_count": 11,
   "metadata": {},
   "outputs": [],
   "source": [
    "NUM_SAMPLES = 80"
   ]
  },
  {
   "cell_type": "code",
   "execution_count": 12,
   "metadata": {},
   "outputs": [],
   "source": [
    "NR_AUGMENTS = 8"
   ]
  },
  {
   "cell_type": "code",
   "execution_count": 13,
   "metadata": {},
   "outputs": [],
   "source": [
    "def get_adaption_inputs(img, tr_transform_adapt, device):\n",
    "    img = img.squeeze(0)\n",
    "    inputs = [(tr_transform_adapt(img)) for _ in range(NR_AUGMENTS)]\n",
    "    inputs = torch.stack(inputs)\n",
    "    #inputs_ssh, _ = rotation.rotate_batch(inputs, 'rand')\n",
    "    #inputs_ssh = inputs_ssh.to(device, non_blocking=True)\n",
    "    #inputs_ssh /= 255\n",
    "    return inputs"
   ]
  },
  {
   "cell_type": "code",
   "execution_count": null,
   "metadata": {},
   "outputs": [],
   "source": [
    "mom_pre = 0.1\n",
    "DECAY_FACTOR = 0.94\n",
    "MIN_MOMENTUM_CONSTANT = 0.005\n",
    "\n",
    "model.to(device)\n",
    "model.eval()\n",
    "results = []\n",
    "train.validate(model,device,val_loader,metrics)\n",
    "results.append(metrics.get_results()[\"Mean IoU\"])\n",
    "\n",
    "with torch.no_grad():\n",
    "    for i in tqdm(range(NUM_SAMPLES)):\n",
    "        image, _ = next(iter(tensor_loader))\n",
    "        mom_new = (mom_pre * DECAY_FACTOR)\n",
    "        for m in model.modules():\n",
    "            if isinstance(m, torch.nn.modules.batchnorm._BatchNorm):\n",
    "                m.momentum = mom_new + MIN_MOMENTUM_CONSTANT\n",
    "                m.train()\n",
    "\n",
    "        mom_pre = mom_new\n",
    "\n",
    "        #augment\n",
    "        inputs = get_adaption_inputs(image, tr_transform_adapt, device)\n",
    "\n",
    "        #forward pass\n",
    "        _ = model(inputs)\n",
    "\n",
    "        #statistics\n",
    "        train.validate(model,device,val_loader,metrics)\n",
    "        results.append(metrics.get_results()[\"Mean IoU\"])\n",
    "        print(metrics.get_results()[\"Mean IoU\"])"
   ]
  },
  {
   "cell_type": "markdown",
   "metadata": {},
   "source": [
    "saving\n"
   ]
  },
  {
   "cell_type": "code",
   "execution_count": 15,
   "metadata": {},
   "outputs": [],
   "source": [
    "model_path = 'adapted_models/resnet_50_CS_fog'\n",
    "torch.save({'model': model.state_dict()}, model_path)"
   ]
  }
 ],
 "metadata": {
  "kernelspec": {
   "display_name": "bachelor",
   "language": "python",
   "name": "python3"
  },
  "language_info": {
   "codemirror_mode": {
    "name": "ipython",
    "version": 3
   },
   "file_extension": ".py",
   "mimetype": "text/x-python",
   "name": "python",
   "nbconvert_exporter": "python",
   "pygments_lexer": "ipython3",
   "version": "3.11.4"
  },
  "orig_nbformat": 4
 },
 "nbformat": 4,
 "nbformat_minor": 2
}
