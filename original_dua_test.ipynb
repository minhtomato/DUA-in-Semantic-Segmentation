{
 "cells": [
  {
   "cell_type": "code",
   "execution_count": 1,
   "metadata": {},
   "outputs": [],
   "source": [
    "import torchvision\n",
    "import torch\n",
    "import train\n",
    "from metrics import StreamSegMetrics\n",
    "from utils import ext_transforms as et\n",
    "import datasets.acdc\n",
    "from torch.utils import data\n",
    "from tqdm import tqdm\n",
    "from datasets import Cityscapes\n",
    "import rotation\n",
    "from torchvision import transforms\n",
    "import network"
   ]
  },
  {
   "cell_type": "code",
   "execution_count": 2,
   "metadata": {},
   "outputs": [],
   "source": [
    "device = 'cuda:2' if torch.cuda.is_available else 'cpu'"
   ]
  },
  {
   "cell_type": "code",
   "execution_count": 3,
   "metadata": {},
   "outputs": [],
   "source": [
    "NUM_CLASSES=19"
   ]
  },
  {
   "cell_type": "code",
   "execution_count": 4,
   "metadata": {},
   "outputs": [
    {
     "data": {
      "text/plain": [
       "<All keys matched successfully>"
      ]
     },
     "execution_count": 4,
     "metadata": {},
     "output_type": "execute_result"
    }
   ],
   "source": [
    "model = torchvision.models.segmentation.deeplabv3_resnet50(num_classes=NUM_CLASSES)\n",
    "model = torch.nn.DataParallel(model, device_ids=[2,1])\n",
    "model.to(device) \n",
    "checkpoint = torch.load('model_20230925_152430_200')\n",
    "model.load_state_dict(checkpoint['model'])"
   ]
  },
  {
   "cell_type": "code",
   "execution_count": 4,
   "metadata": {},
   "outputs": [
    {
     "data": {
      "text/plain": [
       "<All keys matched successfully>"
      ]
     },
     "execution_count": 4,
     "metadata": {},
     "output_type": "execute_result"
    }
   ],
   "source": [
    "model = torchvision.models.segmentation.deeplabv3_resnet50(num_classes=NUM_CLASSES)\n",
    "model = torch.nn.DataParallel(model, device_ids=[2,1])\n",
    "model.to(device)\n",
    "checkpoint = torch.load('adapted_models/resnet_50_CS_fog')\n",
    "model.load_state_dict(checkpoint['model'])"
   ]
  },
  {
   "cell_type": "code",
   "execution_count": 5,
   "metadata": {},
   "outputs": [
    {
     "data": {
      "text/plain": [
       "<All keys matched successfully>"
      ]
     },
     "execution_count": 5,
     "metadata": {},
     "output_type": "execute_result"
    }
   ],
   "source": [
    "model = torchvision.models.segmentation.deeplabv3_mobilenet_v3_large(num_classes=19) \n",
    "model = torch.nn.DataParallel(model, device_ids=[3,2])\n",
    "model.to(device)\n",
    "checkpoint = torch.load('mobilenet_20231130_221541_last')\n",
    "model.load_state_dict(checkpoint['model'])\n",
    "#model = torch.nn.DataParallel(model, device_ids=[2,0,1])"
   ]
  },
  {
   "cell_type": "code",
   "execution_count": 6,
   "metadata": {},
   "outputs": [
    {
     "data": {
      "text/plain": [
       "DataParallel(\n",
       "  (module): DeepLabV3(\n",
       "    (backbone): IntermediateLayerGetter(\n",
       "      (conv1): Conv2d(3, 64, kernel_size=(7, 7), stride=(2, 2), padding=(3, 3), bias=False)\n",
       "      (bn1): BatchNorm2d(64, eps=1e-05, momentum=0.1, affine=True, track_running_stats=True)\n",
       "      (relu): ReLU(inplace=True)\n",
       "      (maxpool): MaxPool2d(kernel_size=3, stride=2, padding=1, dilation=1, ceil_mode=False)\n",
       "      (layer1): Sequential(\n",
       "        (0): Bottleneck(\n",
       "          (conv1): Conv2d(64, 64, kernel_size=(1, 1), stride=(1, 1), bias=False)\n",
       "          (bn1): BatchNorm2d(64, eps=1e-05, momentum=0.1, affine=True, track_running_stats=True)\n",
       "          (conv2): Conv2d(64, 64, kernel_size=(3, 3), stride=(1, 1), padding=(1, 1), bias=False)\n",
       "          (bn2): BatchNorm2d(64, eps=1e-05, momentum=0.1, affine=True, track_running_stats=True)\n",
       "          (conv3): Conv2d(64, 256, kernel_size=(1, 1), stride=(1, 1), bias=False)\n",
       "          (bn3): BatchNorm2d(256, eps=1e-05, momentum=0.1, affine=True, track_running_stats=True)\n",
       "          (relu): ReLU(inplace=True)\n",
       "          (downsample): Sequential(\n",
       "            (0): Conv2d(64, 256, kernel_size=(1, 1), stride=(1, 1), bias=False)\n",
       "            (1): BatchNorm2d(256, eps=1e-05, momentum=0.1, affine=True, track_running_stats=True)\n",
       "          )\n",
       "        )\n",
       "        (1): Bottleneck(\n",
       "          (conv1): Conv2d(256, 64, kernel_size=(1, 1), stride=(1, 1), bias=False)\n",
       "          (bn1): BatchNorm2d(64, eps=1e-05, momentum=0.1, affine=True, track_running_stats=True)\n",
       "          (conv2): Conv2d(64, 64, kernel_size=(3, 3), stride=(1, 1), padding=(1, 1), bias=False)\n",
       "          (bn2): BatchNorm2d(64, eps=1e-05, momentum=0.1, affine=True, track_running_stats=True)\n",
       "          (conv3): Conv2d(64, 256, kernel_size=(1, 1), stride=(1, 1), bias=False)\n",
       "          (bn3): BatchNorm2d(256, eps=1e-05, momentum=0.1, affine=True, track_running_stats=True)\n",
       "          (relu): ReLU(inplace=True)\n",
       "        )\n",
       "        (2): Bottleneck(\n",
       "          (conv1): Conv2d(256, 64, kernel_size=(1, 1), stride=(1, 1), bias=False)\n",
       "          (bn1): BatchNorm2d(64, eps=1e-05, momentum=0.1, affine=True, track_running_stats=True)\n",
       "          (conv2): Conv2d(64, 64, kernel_size=(3, 3), stride=(1, 1), padding=(1, 1), bias=False)\n",
       "          (bn2): BatchNorm2d(64, eps=1e-05, momentum=0.1, affine=True, track_running_stats=True)\n",
       "          (conv3): Conv2d(64, 256, kernel_size=(1, 1), stride=(1, 1), bias=False)\n",
       "          (bn3): BatchNorm2d(256, eps=1e-05, momentum=0.1, affine=True, track_running_stats=True)\n",
       "          (relu): ReLU(inplace=True)\n",
       "        )\n",
       "      )\n",
       "      (layer2): Sequential(\n",
       "        (0): Bottleneck(\n",
       "          (conv1): Conv2d(256, 128, kernel_size=(1, 1), stride=(1, 1), bias=False)\n",
       "          (bn1): BatchNorm2d(128, eps=1e-05, momentum=0.1, affine=True, track_running_stats=True)\n",
       "          (conv2): Conv2d(128, 128, kernel_size=(3, 3), stride=(2, 2), padding=(1, 1), bias=False)\n",
       "          (bn2): BatchNorm2d(128, eps=1e-05, momentum=0.1, affine=True, track_running_stats=True)\n",
       "          (conv3): Conv2d(128, 512, kernel_size=(1, 1), stride=(1, 1), bias=False)\n",
       "          (bn3): BatchNorm2d(512, eps=1e-05, momentum=0.1, affine=True, track_running_stats=True)\n",
       "          (relu): ReLU(inplace=True)\n",
       "          (downsample): Sequential(\n",
       "            (0): Conv2d(256, 512, kernel_size=(1, 1), stride=(2, 2), bias=False)\n",
       "            (1): BatchNorm2d(512, eps=1e-05, momentum=0.1, affine=True, track_running_stats=True)\n",
       "          )\n",
       "        )\n",
       "        (1): Bottleneck(\n",
       "          (conv1): Conv2d(512, 128, kernel_size=(1, 1), stride=(1, 1), bias=False)\n",
       "          (bn1): BatchNorm2d(128, eps=1e-05, momentum=0.1, affine=True, track_running_stats=True)\n",
       "          (conv2): Conv2d(128, 128, kernel_size=(3, 3), stride=(1, 1), padding=(1, 1), bias=False)\n",
       "          (bn2): BatchNorm2d(128, eps=1e-05, momentum=0.1, affine=True, track_running_stats=True)\n",
       "          (conv3): Conv2d(128, 512, kernel_size=(1, 1), stride=(1, 1), bias=False)\n",
       "          (bn3): BatchNorm2d(512, eps=1e-05, momentum=0.1, affine=True, track_running_stats=True)\n",
       "          (relu): ReLU(inplace=True)\n",
       "        )\n",
       "        (2): Bottleneck(\n",
       "          (conv1): Conv2d(512, 128, kernel_size=(1, 1), stride=(1, 1), bias=False)\n",
       "          (bn1): BatchNorm2d(128, eps=1e-05, momentum=0.1, affine=True, track_running_stats=True)\n",
       "          (conv2): Conv2d(128, 128, kernel_size=(3, 3), stride=(1, 1), padding=(1, 1), bias=False)\n",
       "          (bn2): BatchNorm2d(128, eps=1e-05, momentum=0.1, affine=True, track_running_stats=True)\n",
       "          (conv3): Conv2d(128, 512, kernel_size=(1, 1), stride=(1, 1), bias=False)\n",
       "          (bn3): BatchNorm2d(512, eps=1e-05, momentum=0.1, affine=True, track_running_stats=True)\n",
       "          (relu): ReLU(inplace=True)\n",
       "        )\n",
       "        (3): Bottleneck(\n",
       "          (conv1): Conv2d(512, 128, kernel_size=(1, 1), stride=(1, 1), bias=False)\n",
       "          (bn1): BatchNorm2d(128, eps=1e-05, momentum=0.1, affine=True, track_running_stats=True)\n",
       "          (conv2): Conv2d(128, 128, kernel_size=(3, 3), stride=(1, 1), padding=(1, 1), bias=False)\n",
       "          (bn2): BatchNorm2d(128, eps=1e-05, momentum=0.1, affine=True, track_running_stats=True)\n",
       "          (conv3): Conv2d(128, 512, kernel_size=(1, 1), stride=(1, 1), bias=False)\n",
       "          (bn3): BatchNorm2d(512, eps=1e-05, momentum=0.1, affine=True, track_running_stats=True)\n",
       "          (relu): ReLU(inplace=True)\n",
       "        )\n",
       "      )\n",
       "      (layer3): Sequential(\n",
       "        (0): Bottleneck(\n",
       "          (conv1): Conv2d(512, 256, kernel_size=(1, 1), stride=(1, 1), bias=False)\n",
       "          (bn1): BatchNorm2d(256, eps=1e-05, momentum=0.1, affine=True, track_running_stats=True)\n",
       "          (conv2): Conv2d(256, 256, kernel_size=(3, 3), stride=(1, 1), padding=(1, 1), bias=False)\n",
       "          (bn2): BatchNorm2d(256, eps=1e-05, momentum=0.1, affine=True, track_running_stats=True)\n",
       "          (conv3): Conv2d(256, 1024, kernel_size=(1, 1), stride=(1, 1), bias=False)\n",
       "          (bn3): BatchNorm2d(1024, eps=1e-05, momentum=0.1, affine=True, track_running_stats=True)\n",
       "          (relu): ReLU(inplace=True)\n",
       "          (downsample): Sequential(\n",
       "            (0): Conv2d(512, 1024, kernel_size=(1, 1), stride=(1, 1), bias=False)\n",
       "            (1): BatchNorm2d(1024, eps=1e-05, momentum=0.1, affine=True, track_running_stats=True)\n",
       "          )\n",
       "        )\n",
       "        (1): Bottleneck(\n",
       "          (conv1): Conv2d(1024, 256, kernel_size=(1, 1), stride=(1, 1), bias=False)\n",
       "          (bn1): BatchNorm2d(256, eps=1e-05, momentum=0.1, affine=True, track_running_stats=True)\n",
       "          (conv2): Conv2d(256, 256, kernel_size=(3, 3), stride=(1, 1), padding=(2, 2), dilation=(2, 2), bias=False)\n",
       "          (bn2): BatchNorm2d(256, eps=1e-05, momentum=0.1, affine=True, track_running_stats=True)\n",
       "          (conv3): Conv2d(256, 1024, kernel_size=(1, 1), stride=(1, 1), bias=False)\n",
       "          (bn3): BatchNorm2d(1024, eps=1e-05, momentum=0.1, affine=True, track_running_stats=True)\n",
       "          (relu): ReLU(inplace=True)\n",
       "        )\n",
       "        (2): Bottleneck(\n",
       "          (conv1): Conv2d(1024, 256, kernel_size=(1, 1), stride=(1, 1), bias=False)\n",
       "          (bn1): BatchNorm2d(256, eps=1e-05, momentum=0.1, affine=True, track_running_stats=True)\n",
       "          (conv2): Conv2d(256, 256, kernel_size=(3, 3), stride=(1, 1), padding=(2, 2), dilation=(2, 2), bias=False)\n",
       "          (bn2): BatchNorm2d(256, eps=1e-05, momentum=0.1, affine=True, track_running_stats=True)\n",
       "          (conv3): Conv2d(256, 1024, kernel_size=(1, 1), stride=(1, 1), bias=False)\n",
       "          (bn3): BatchNorm2d(1024, eps=1e-05, momentum=0.1, affine=True, track_running_stats=True)\n",
       "          (relu): ReLU(inplace=True)\n",
       "        )\n",
       "        (3): Bottleneck(\n",
       "          (conv1): Conv2d(1024, 256, kernel_size=(1, 1), stride=(1, 1), bias=False)\n",
       "          (bn1): BatchNorm2d(256, eps=1e-05, momentum=0.1, affine=True, track_running_stats=True)\n",
       "          (conv2): Conv2d(256, 256, kernel_size=(3, 3), stride=(1, 1), padding=(2, 2), dilation=(2, 2), bias=False)\n",
       "          (bn2): BatchNorm2d(256, eps=1e-05, momentum=0.1, affine=True, track_running_stats=True)\n",
       "          (conv3): Conv2d(256, 1024, kernel_size=(1, 1), stride=(1, 1), bias=False)\n",
       "          (bn3): BatchNorm2d(1024, eps=1e-05, momentum=0.1, affine=True, track_running_stats=True)\n",
       "          (relu): ReLU(inplace=True)\n",
       "        )\n",
       "        (4): Bottleneck(\n",
       "          (conv1): Conv2d(1024, 256, kernel_size=(1, 1), stride=(1, 1), bias=False)\n",
       "          (bn1): BatchNorm2d(256, eps=1e-05, momentum=0.1, affine=True, track_running_stats=True)\n",
       "          (conv2): Conv2d(256, 256, kernel_size=(3, 3), stride=(1, 1), padding=(2, 2), dilation=(2, 2), bias=False)\n",
       "          (bn2): BatchNorm2d(256, eps=1e-05, momentum=0.1, affine=True, track_running_stats=True)\n",
       "          (conv3): Conv2d(256, 1024, kernel_size=(1, 1), stride=(1, 1), bias=False)\n",
       "          (bn3): BatchNorm2d(1024, eps=1e-05, momentum=0.1, affine=True, track_running_stats=True)\n",
       "          (relu): ReLU(inplace=True)\n",
       "        )\n",
       "        (5): Bottleneck(\n",
       "          (conv1): Conv2d(1024, 256, kernel_size=(1, 1), stride=(1, 1), bias=False)\n",
       "          (bn1): BatchNorm2d(256, eps=1e-05, momentum=0.1, affine=True, track_running_stats=True)\n",
       "          (conv2): Conv2d(256, 256, kernel_size=(3, 3), stride=(1, 1), padding=(2, 2), dilation=(2, 2), bias=False)\n",
       "          (bn2): BatchNorm2d(256, eps=1e-05, momentum=0.1, affine=True, track_running_stats=True)\n",
       "          (conv3): Conv2d(256, 1024, kernel_size=(1, 1), stride=(1, 1), bias=False)\n",
       "          (bn3): BatchNorm2d(1024, eps=1e-05, momentum=0.1, affine=True, track_running_stats=True)\n",
       "          (relu): ReLU(inplace=True)\n",
       "        )\n",
       "      )\n",
       "      (layer4): Sequential(\n",
       "        (0): Bottleneck(\n",
       "          (conv1): Conv2d(1024, 512, kernel_size=(1, 1), stride=(1, 1), bias=False)\n",
       "          (bn1): BatchNorm2d(512, eps=1e-05, momentum=0.1, affine=True, track_running_stats=True)\n",
       "          (conv2): Conv2d(512, 512, kernel_size=(3, 3), stride=(1, 1), padding=(2, 2), dilation=(2, 2), bias=False)\n",
       "          (bn2): BatchNorm2d(512, eps=1e-05, momentum=0.1, affine=True, track_running_stats=True)\n",
       "          (conv3): Conv2d(512, 2048, kernel_size=(1, 1), stride=(1, 1), bias=False)\n",
       "          (bn3): BatchNorm2d(2048, eps=1e-05, momentum=0.1, affine=True, track_running_stats=True)\n",
       "          (relu): ReLU(inplace=True)\n",
       "          (downsample): Sequential(\n",
       "            (0): Conv2d(1024, 2048, kernel_size=(1, 1), stride=(1, 1), bias=False)\n",
       "            (1): BatchNorm2d(2048, eps=1e-05, momentum=0.1, affine=True, track_running_stats=True)\n",
       "          )\n",
       "        )\n",
       "        (1): Bottleneck(\n",
       "          (conv1): Conv2d(2048, 512, kernel_size=(1, 1), stride=(1, 1), bias=False)\n",
       "          (bn1): BatchNorm2d(512, eps=1e-05, momentum=0.1, affine=True, track_running_stats=True)\n",
       "          (conv2): Conv2d(512, 512, kernel_size=(3, 3), stride=(1, 1), padding=(4, 4), dilation=(4, 4), bias=False)\n",
       "          (bn2): BatchNorm2d(512, eps=1e-05, momentum=0.1, affine=True, track_running_stats=True)\n",
       "          (conv3): Conv2d(512, 2048, kernel_size=(1, 1), stride=(1, 1), bias=False)\n",
       "          (bn3): BatchNorm2d(2048, eps=1e-05, momentum=0.1, affine=True, track_running_stats=True)\n",
       "          (relu): ReLU(inplace=True)\n",
       "        )\n",
       "        (2): Bottleneck(\n",
       "          (conv1): Conv2d(2048, 512, kernel_size=(1, 1), stride=(1, 1), bias=False)\n",
       "          (bn1): BatchNorm2d(512, eps=1e-05, momentum=0.1, affine=True, track_running_stats=True)\n",
       "          (conv2): Conv2d(512, 512, kernel_size=(3, 3), stride=(1, 1), padding=(4, 4), dilation=(4, 4), bias=False)\n",
       "          (bn2): BatchNorm2d(512, eps=1e-05, momentum=0.1, affine=True, track_running_stats=True)\n",
       "          (conv3): Conv2d(512, 2048, kernel_size=(1, 1), stride=(1, 1), bias=False)\n",
       "          (bn3): BatchNorm2d(2048, eps=1e-05, momentum=0.1, affine=True, track_running_stats=True)\n",
       "          (relu): ReLU(inplace=True)\n",
       "        )\n",
       "      )\n",
       "    )\n",
       "    (classifier): DeepLabHead(\n",
       "      (0): ASPP(\n",
       "        (convs): ModuleList(\n",
       "          (0): Sequential(\n",
       "            (0): Conv2d(2048, 256, kernel_size=(1, 1), stride=(1, 1), bias=False)\n",
       "            (1): BatchNorm2d(256, eps=1e-05, momentum=0.1, affine=True, track_running_stats=True)\n",
       "            (2): ReLU()\n",
       "          )\n",
       "          (1): ASPPConv(\n",
       "            (0): Conv2d(2048, 256, kernel_size=(3, 3), stride=(1, 1), padding=(12, 12), dilation=(12, 12), bias=False)\n",
       "            (1): BatchNorm2d(256, eps=1e-05, momentum=0.1, affine=True, track_running_stats=True)\n",
       "            (2): ReLU()\n",
       "          )\n",
       "          (2): ASPPConv(\n",
       "            (0): Conv2d(2048, 256, kernel_size=(3, 3), stride=(1, 1), padding=(24, 24), dilation=(24, 24), bias=False)\n",
       "            (1): BatchNorm2d(256, eps=1e-05, momentum=0.1, affine=True, track_running_stats=True)\n",
       "            (2): ReLU()\n",
       "          )\n",
       "          (3): ASPPConv(\n",
       "            (0): Conv2d(2048, 256, kernel_size=(3, 3), stride=(1, 1), padding=(36, 36), dilation=(36, 36), bias=False)\n",
       "            (1): BatchNorm2d(256, eps=1e-05, momentum=0.1, affine=True, track_running_stats=True)\n",
       "            (2): ReLU()\n",
       "          )\n",
       "          (4): ASPPPooling(\n",
       "            (0): AdaptiveAvgPool2d(output_size=1)\n",
       "            (1): Conv2d(2048, 256, kernel_size=(1, 1), stride=(1, 1), bias=False)\n",
       "            (2): BatchNorm2d(256, eps=1e-05, momentum=0.1, affine=True, track_running_stats=True)\n",
       "            (3): ReLU()\n",
       "          )\n",
       "        )\n",
       "        (project): Sequential(\n",
       "          (0): Conv2d(1280, 256, kernel_size=(1, 1), stride=(1, 1), bias=False)\n",
       "          (1): BatchNorm2d(256, eps=1e-05, momentum=0.1, affine=True, track_running_stats=True)\n",
       "          (2): ReLU()\n",
       "          (3): Dropout(p=0.5, inplace=False)\n",
       "        )\n",
       "      )\n",
       "      (1): Conv2d(256, 256, kernel_size=(3, 3), stride=(1, 1), padding=(1, 1), bias=False)\n",
       "      (2): BatchNorm2d(256, eps=1e-05, momentum=0.1, affine=True, track_running_stats=True)\n",
       "      (3): ReLU()\n",
       "      (4): Conv2d(256, 19, kernel_size=(1, 1), stride=(1, 1))\n",
       "    )\n",
       "  )\n",
       ")"
      ]
     },
     "execution_count": 6,
     "metadata": {},
     "output_type": "execute_result"
    }
   ],
   "source": [
    "model"
   ]
  },
  {
   "cell_type": "code",
   "execution_count": 5,
   "metadata": {},
   "outputs": [],
   "source": [
    "train_transform = et.ExtCompose([\n",
    "    et.ExtRandomScale(scale_range=(0.5, 2.0)),\n",
    "    et.ExtRandomCrop(size=(512,1024), pad_if_needed=True),\n",
    "    et.ExtRandomHorizontalFlip(),\n",
    "    et.ExtToTensor(),\n",
    "    et.ExtNormalize(mean=[0.485, 0.456, 0.406],\n",
    "                    std=[0.229, 0.224, 0.225])\n",
    "])"
   ]
  },
  {
   "cell_type": "code",
   "execution_count": 6,
   "metadata": {},
   "outputs": [],
   "source": [
    "to_tensor = et.ExtCompose([et.ExtToTensor()])\n",
    "val_transform = et.ExtCompose([\n",
    "            et.ExtToTensor(),\n",
    "            et.ExtNormalize(mean=[0.485, 0.456, 0.406],\n",
    "                            std=[0.229, 0.224, 0.225])\n",
    "])"
   ]
  },
  {
   "cell_type": "code",
   "execution_count": 7,
   "metadata": {},
   "outputs": [],
   "source": [
    "WEATHER = 'fog'"
   ]
  },
  {
   "cell_type": "code",
   "execution_count": 8,
   "metadata": {},
   "outputs": [],
   "source": [
    "validation_set = datasets.acdc.Acdc(r\"/vol/tmp/phanfran/acdc/\", 'val', 'semantic',transform=val_transform, weather=WEATHER)\n",
    "BATCH_SIZE = 1\n",
    "val_loader = data.DataLoader(\n",
    "        validation_set, batch_size=BATCH_SIZE, shuffle=True, num_workers=8,\n",
    "        drop_last=True)"
   ]
  },
  {
   "cell_type": "code",
   "execution_count": 9,
   "metadata": {},
   "outputs": [],
   "source": [
    "tensor_set = datasets.acdc.Acdc(r\"/vol/tmp/phanfran/acdc/\", 'train', 'semantic',transform=to_tensor, weather=WEATHER)\n",
    "BATCH_SIZE = 1\n",
    "tensor_loader = data.DataLoader(\n",
    "        tensor_set, batch_size=BATCH_SIZE, shuffle=True, num_workers=8,\n",
    "        drop_last=True)"
   ]
  },
  {
   "cell_type": "code",
   "execution_count": 8,
   "metadata": {},
   "outputs": [],
   "source": [
    "#momentan val\n",
    "cityscapes_train = Cityscapes(root='/vol/tmp/phanfran/cityscapes/',\n",
    "                             subset=None,\n",
    "                             split='train',\n",
    "                             transform=to_tensor)\n",
    "\n",
    "BATCH_SIZE = 1\n",
    "cityscapes_train_loader = data.DataLoader(\n",
    "        cityscapes_train, batch_size=BATCH_SIZE, shuffle=True, num_workers=2,\n",
    "        drop_last=True)\n",
    "\n",
    "cityscapes_to_tensor = Cityscapes(root='/vol/tmp/phanfran/cityscapes/',\n",
    "                             subset=WEATHER,\n",
    "                             split= 'train',\n",
    "                             transform=to_tensor)\n",
    "\n",
    "BATCH_SIZE = 1\n",
    "cityscapes_tensor_loader = data.DataLoader(\n",
    "        cityscapes_to_tensor, batch_size=BATCH_SIZE, shuffle=True, num_workers=2,\n",
    "        drop_last=True)\n",
    "\n",
    "\n",
    "cityscapes_val = Cityscapes(root='/vol/tmp/phanfran/cityscapes/',\n",
    "                             subset=WEATHER,\n",
    "                             split='val',\n",
    "                             transform=val_transform)\n",
    "\n",
    "BATCH_SIZE = 1\n",
    "cityscapes_val_loader = data.DataLoader(\n",
    "        cityscapes_val, batch_size=BATCH_SIZE, shuffle=True, num_workers=2,\n",
    "        drop_last=True)\n"
   ]
  },
  {
   "cell_type": "code",
   "execution_count": 23,
   "metadata": {},
   "outputs": [
    {
     "ename": "NameError",
     "evalue": "name 'cityscapes_train' is not defined",
     "output_type": "error",
     "traceback": [
      "\u001b[0;31m---------------------------------------------------------------------------\u001b[0m",
      "\u001b[0;31mNameError\u001b[0m                                 Traceback (most recent call last)",
      "Cell \u001b[0;32mIn[23], line 1\u001b[0m\n\u001b[0;32m----> 1\u001b[0m cs_train_subset \u001b[38;5;241m=\u001b[39m torch\u001b[38;5;241m.\u001b[39mutils\u001b[38;5;241m.\u001b[39mdata\u001b[38;5;241m.\u001b[39mrandom_split(cityscapes_train,[\u001b[38;5;28mlen\u001b[39m(tensor_set), \u001b[38;5;28mlen\u001b[39m(cityscapes_train)\u001b[38;5;241m-\u001b[39m\u001b[38;5;28mlen\u001b[39m(tensor_set)])[\u001b[38;5;241m0\u001b[39m]\n\u001b[1;32m      2\u001b[0m dua_dataset \u001b[38;5;241m=\u001b[39m torch\u001b[38;5;241m.\u001b[39mutils\u001b[38;5;241m.\u001b[39mdata\u001b[38;5;241m.\u001b[39mConcatDataset([tensor_set, cs_train_subset])\n\u001b[1;32m      3\u001b[0m dua_loader \u001b[38;5;241m=\u001b[39m data\u001b[38;5;241m.\u001b[39mDataLoader(\n\u001b[1;32m      4\u001b[0m         dua_dataset, batch_size\u001b[38;5;241m=\u001b[39mBATCH_SIZE, shuffle\u001b[38;5;241m=\u001b[39m\u001b[38;5;28;01mTrue\u001b[39;00m, num_workers\u001b[38;5;241m=\u001b[39m\u001b[38;5;241m8\u001b[39m,\n\u001b[1;32m      5\u001b[0m         drop_last\u001b[38;5;241m=\u001b[39m\u001b[38;5;28;01mTrue\u001b[39;00m)\n",
      "\u001b[0;31mNameError\u001b[0m: name 'cityscapes_train' is not defined"
     ]
    }
   ],
   "source": [
    "cs_train_subset = torch.utils.data.random_split(cityscapes_train,[len(tensor_set), len(cityscapes_train)-len(tensor_set)])[0]\n",
    "dua_dataset = torch.utils.data.ConcatDataset([tensor_set, cs_train_subset])\n",
    "dua_loader = data.DataLoader(\n",
    "        dua_dataset, batch_size=BATCH_SIZE, shuffle=True, num_workers=8,\n",
    "        drop_last=True)\n",
    "len(dua_loader)"
   ]
  },
  {
   "cell_type": "code",
   "execution_count": 9,
   "metadata": {},
   "outputs": [],
   "source": [
    "NUM_CLASSES = 19\n",
    "metrics = StreamSegMetrics(n_classes=NUM_CLASSES)\n",
    "metrics.reset()"
   ]
  },
  {
   "cell_type": "code",
   "execution_count": 68,
   "metadata": {},
   "outputs": [
    {
     "name": "stderr",
     "output_type": "stream",
     "text": [
      "100%|██████████| 100/100 [00:34<00:00,  2.90it/s]\n"
     ]
    }
   ],
   "source": [
    "train.validate(model,device,val_loader,metrics)"
   ]
  },
  {
   "cell_type": "markdown",
   "metadata": {},
   "source": [
    "zero shot performance"
   ]
  },
  {
   "cell_type": "markdown",
   "metadata": {},
   "source": [
    "fog"
   ]
  },
  {
   "cell_type": "code",
   "execution_count": 13,
   "metadata": {},
   "outputs": [
    {
     "data": {
      "text/plain": [
       "0.36798932500582315"
      ]
     },
     "execution_count": 13,
     "metadata": {},
     "output_type": "execute_result"
    }
   ],
   "source": [
    "metrics.get_results()[\"Mean IoU\"]"
   ]
  },
  {
   "cell_type": "code",
   "execution_count": 37,
   "metadata": {},
   "outputs": [
    {
     "data": {
      "text/plain": [
       "0.8283137144456527"
      ]
     },
     "execution_count": 37,
     "metadata": {},
     "output_type": "execute_result"
    }
   ],
   "source": [
    "metrics.get_results()[\"Overall Acc\"]"
   ]
  },
  {
   "cell_type": "markdown",
   "metadata": {},
   "source": [
    "fog class iou"
   ]
  },
  {
   "cell_type": "code",
   "execution_count": 11,
   "metadata": {},
   "outputs": [
    {
     "data": {
      "text/plain": [
       "{0: 0.8136252086906332,\n",
       " 1: 0.5784427004845875,\n",
       " 2: 0.6039401087070907,\n",
       " 3: 0.014069694179227451,\n",
       " 4: 0.14731043394889323,\n",
       " 5: 0.10838495183238434,\n",
       " 6: 0.43082521551348374,\n",
       " 7: 0.3909355395945086,\n",
       " 8: 0.7645908221623414,\n",
       " 9: 0.371580624728042,\n",
       " 10: 0.828291355709795,\n",
       " 11: 0.046333172307397766,\n",
       " 12: 0.29940815609545174,\n",
       " 13: 0.551099930362755,\n",
       " 14: 0.2756943891807123,\n",
       " 15: 0.26591734056239663,\n",
       " 16: 0.458828221677626,\n",
       " 17: 0.01213401882188916,\n",
       " 18: 0.03038529055142335}"
      ]
     },
     "execution_count": 11,
     "metadata": {},
     "output_type": "execute_result"
    }
   ],
   "source": [
    "metrics.get_results()[\"Class IoU\"]"
   ]
  },
  {
   "cell_type": "markdown",
   "metadata": {},
   "source": [
    "after adaptation"
   ]
  },
  {
   "cell_type": "code",
   "execution_count": 24,
   "metadata": {},
   "outputs": [
    {
     "data": {
      "text/plain": [
       "{0: 0.5803105692053315,\n",
       " 1: 0.7748841049451624,\n",
       " 2: 0.7221452487345872,\n",
       " 3: 0.4074058608168425,\n",
       " 4: 0.34155661660647296,\n",
       " 5: 0.3290132621893751,\n",
       " 6: 0.6757933271796894,\n",
       " 7: 0.6297909407665505,\n",
       " 8: 0.8445886977384528,\n",
       " 9: 0.565186441222651,\n",
       " 10: 0.6527708065089354,\n",
       " 11: 0.21673594262149673,\n",
       " 12: 0.4685159580596843,\n",
       " 13: 0.7859093988476006,\n",
       " 14: 0.3916949459092428,\n",
       " 15: 0.4983509539290935,\n",
       " 16: 0.6821415641776224,\n",
       " 17: 0.19227771753862835,\n",
       " 18: 0.32807483862059444}"
      ]
     },
     "execution_count": 24,
     "metadata": {},
     "output_type": "execute_result"
    }
   ],
   "source": [
    "metrics.get_results()[\"Class IoU\"]"
   ]
  },
  {
   "cell_type": "code",
   "execution_count": 25,
   "metadata": {},
   "outputs": [
    {
     "data": {
      "text/plain": [
       "0.8111054445883801"
      ]
     },
     "execution_count": 25,
     "metadata": {},
     "output_type": "execute_result"
    }
   ],
   "source": [
    "metrics.get_results()[\"Overall Acc\"]"
   ]
  },
  {
   "cell_type": "markdown",
   "metadata": {},
   "source": [
    "rain"
   ]
  },
  {
   "cell_type": "code",
   "execution_count": 71,
   "metadata": {},
   "outputs": [
    {
     "data": {
      "text/plain": [
       "0.3139140494860081"
      ]
     },
     "execution_count": 71,
     "metadata": {},
     "output_type": "execute_result"
    }
   ],
   "source": [
    "metrics.get_results()[\"Mean IoU\"]"
   ]
  },
  {
   "cell_type": "markdown",
   "metadata": {},
   "source": [
    "before adaptation"
   ]
  },
  {
   "cell_type": "code",
   "execution_count": 69,
   "metadata": {},
   "outputs": [
    {
     "data": {
      "text/plain": [
       "0.8197065922716312"
      ]
     },
     "execution_count": 69,
     "metadata": {},
     "output_type": "execute_result"
    }
   ],
   "source": [
    "metrics.get_results()[\"Overall Acc\"]"
   ]
  },
  {
   "cell_type": "code",
   "execution_count": 73,
   "metadata": {},
   "outputs": [
    {
     "data": {
      "text/plain": [
       "{0: 0.7038052610332651,\n",
       " 1: 0.17714505359531812,\n",
       " 2: 0.5826472640480683,\n",
       " 3: 0.09799081859283247,\n",
       " 4: 0.0526112965742836,\n",
       " 5: 0.1833748343664126,\n",
       " 6: 0.37245427754499116,\n",
       " 7: 0.4836942928655799,\n",
       " 8: 0.7960535351071651,\n",
       " 9: 0.3098140695984662,\n",
       " 10: 0.9032899226779644,\n",
       " 11: 0.18651383975427144,\n",
       " 12: 0.0,\n",
       " 13: 0.5847077538921891,\n",
       " 14: 0.11932312708884785,\n",
       " 15: 0.22593835253491548,\n",
       " 16: 0.11630257308100878,\n",
       " 17: 0.05398335851354094,\n",
       " 18: 0.014717309365033343}"
      ]
     },
     "execution_count": 73,
     "metadata": {},
     "output_type": "execute_result"
    }
   ],
   "source": [
    "metrics.get_results()[\"Class IoU\"]"
   ]
  },
  {
   "cell_type": "markdown",
   "metadata": {},
   "source": [
    "after adaptation"
   ]
  },
  {
   "cell_type": "code",
   "execution_count": 56,
   "metadata": {},
   "outputs": [
    {
     "data": {
      "text/plain": [
       "0.88715597230059"
      ]
     },
     "execution_count": 56,
     "metadata": {},
     "output_type": "execute_result"
    }
   ],
   "source": [
    "metrics.get_results()[\"Overall Acc\"]"
   ]
  },
  {
   "cell_type": "code",
   "execution_count": 55,
   "metadata": {},
   "outputs": [
    {
     "data": {
      "text/plain": [
       "{0: 0.750300819003998,\n",
       " 1: 0.426480151109026,\n",
       " 2: 0.7874959700914547,\n",
       " 3: 0.26022939957404395,\n",
       " 4: 0.2734242309260894,\n",
       " 5: 0.39713846340850967,\n",
       " 6: 0.6063566348972974,\n",
       " 7: 0.6749890199548955,\n",
       " 8: 0.8922349860374934,\n",
       " 9: 0.5377594455191469,\n",
       " 10: 0.9326872990168597,\n",
       " 11: 0.5004070958462276,\n",
       " 12: 0.03878587375215445,\n",
       " 13: 0.7829552605719134,\n",
       " 14: 0.22172218437467553,\n",
       " 15: 0.2821754410119945,\n",
       " 16: 0.16052009562353714,\n",
       " 17: 0.1755419033267648,\n",
       " 18: 0.3800453852163238}"
      ]
     },
     "execution_count": 55,
     "metadata": {},
     "output_type": "execute_result"
    }
   ],
   "source": [
    "metrics.get_results()[\"Class IoU\"]"
   ]
  },
  {
   "cell_type": "markdown",
   "metadata": {},
   "source": [
    "snow"
   ]
  },
  {
   "cell_type": "code",
   "execution_count": 86,
   "metadata": {},
   "outputs": [
    {
     "data": {
      "text/plain": [
       "0.2570405916582452"
      ]
     },
     "execution_count": 86,
     "metadata": {},
     "output_type": "execute_result"
    }
   ],
   "source": [
    "metrics.get_results()[\"Mean IoU\"]"
   ]
  },
  {
   "cell_type": "markdown",
   "metadata": {},
   "source": [
    "night"
   ]
  },
  {
   "cell_type": "code",
   "execution_count": 13,
   "metadata": {},
   "outputs": [
    {
     "name": "stderr",
     "output_type": "stream",
     "text": [
      "/vol/fob-vol3/mi20/phanfran/Bachelorarbeit/dua_deeplab_tests/metrics/stream_metrics.py:65: RuntimeWarning: invalid value encountered in divide\n",
      "  acc_cls = np.diag(hist) / hist.sum(axis=1)\n"
     ]
    },
    {
     "data": {
      "text/plain": [
       "0.0796316777263879"
      ]
     },
     "execution_count": 13,
     "metadata": {},
     "output_type": "execute_result"
    }
   ],
   "source": [
    "metrics.get_results()[\"Mean IoU\"]"
   ]
  },
  {
   "cell_type": "markdown",
   "metadata": {},
   "source": [
    "cityscapes fog"
   ]
  },
  {
   "cell_type": "code",
   "execution_count": 18,
   "metadata": {},
   "outputs": [
    {
     "data": {
      "text/plain": [
       "0.5287209149819646"
      ]
     },
     "execution_count": 18,
     "metadata": {},
     "output_type": "execute_result"
    }
   ],
   "source": [
    "metrics.get_results()[\"Mean IoU\"] #severity 0.02"
   ]
  },
  {
   "cell_type": "code",
   "execution_count": 9,
   "metadata": {},
   "outputs": [
    {
     "data": {
      "text/plain": [
       "0.6367048012426096"
      ]
     },
     "execution_count": 9,
     "metadata": {},
     "output_type": "execute_result"
    }
   ],
   "source": [
    "metrics.get_results()[\"Mean IoU\"] #severity 0.01"
   ]
  },
  {
   "cell_type": "code",
   "execution_count": 14,
   "metadata": {},
   "outputs": [
    {
     "data": {
      "text/plain": [
       "0.6914316670628892"
      ]
     },
     "execution_count": 14,
     "metadata": {},
     "output_type": "execute_result"
    }
   ],
   "source": [
    "metrics.get_results()[\"Mean IoU\"] #severity 0.005"
   ]
  },
  {
   "cell_type": "markdown",
   "metadata": {},
   "source": [
    "cityscapes rain"
   ]
  },
  {
   "cell_type": "code",
   "execution_count": 12,
   "metadata": {},
   "outputs": [
    {
     "name": "stderr",
     "output_type": "stream",
     "text": [
      "/vol/fob-vol3/mi20/phanfran/Bachelorarbeit/dua_deeplab_tests/metrics/stream_metrics.py:65: RuntimeWarning: invalid value encountered in divide\n",
      "  acc_cls = np.diag(hist) / hist.sum(axis=1)\n"
     ]
    },
    {
     "data": {
      "text/plain": [
       "0.5097203152300265"
      ]
     },
     "execution_count": 12,
     "metadata": {},
     "output_type": "execute_result"
    }
   ],
   "source": [
    "metrics.get_results()[\"Mean IoU\"]"
   ]
  },
  {
   "cell_type": "markdown",
   "metadata": {},
   "source": [
    "mobileNet"
   ]
  },
  {
   "cell_type": "markdown",
   "metadata": {},
   "source": [
    "vainf params cs"
   ]
  },
  {
   "cell_type": "code",
   "execution_count": null,
   "metadata": {},
   "outputs": [],
   "source": [
    "metrics.get_results()[\"Mean IoU\"]"
   ]
  },
  {
   "cell_type": "code",
   "execution_count": 18,
   "metadata": {},
   "outputs": [
    {
     "data": {
      "text/plain": [
       "0.568577832964277"
      ]
     },
     "execution_count": 18,
     "metadata": {},
     "output_type": "execute_result"
    }
   ],
   "source": [
    "metrics.get_results()[\"Mean IoU\"]"
   ]
  },
  {
   "cell_type": "markdown",
   "metadata": {},
   "source": [
    "CS"
   ]
  },
  {
   "cell_type": "code",
   "execution_count": 18,
   "metadata": {},
   "outputs": [
    {
     "data": {
      "text/plain": [
       "0.5598166049241478"
      ]
     },
     "execution_count": 18,
     "metadata": {},
     "output_type": "execute_result"
    }
   ],
   "source": [
    "metrics.get_results()[\"Mean IoU\"]  #newest lr 0.01 cross entropy 1000 iters"
   ]
  },
  {
   "cell_type": "code",
   "execution_count": 19,
   "metadata": {},
   "outputs": [
    {
     "data": {
      "text/plain": [
       "0.5598166049241478"
      ]
     },
     "execution_count": 19,
     "metadata": {},
     "output_type": "execute_result"
    }
   ],
   "source": [
    "metrics.get_results()[\"Mean IoU\"]  #newest lr 0.01 cross entropy #Wrong"
   ]
  },
  {
   "cell_type": "code",
   "execution_count": 38,
   "metadata": {},
   "outputs": [
    {
     "data": {
      "text/plain": [
       "0.5054556080669917"
      ]
     },
     "execution_count": 38,
     "metadata": {},
     "output_type": "execute_result"
    }
   ],
   "source": [
    "metrics.get_results()[\"Mean IoU\"] "
   ]
  },
  {
   "cell_type": "code",
   "execution_count": 17,
   "metadata": {},
   "outputs": [
    {
     "data": {
      "text/plain": [
       "0.5340697698704586"
      ]
     },
     "execution_count": 17,
     "metadata": {},
     "output_type": "execute_result"
    }
   ],
   "source": [
    "metrics.get_results()[\"Mean IoU\"] # focal loss adjusted lr"
   ]
  },
  {
   "cell_type": "code",
   "execution_count": 16,
   "metadata": {},
   "outputs": [
    {
     "data": {
      "text/plain": [
       "0.5014643712101446"
      ]
     },
     "execution_count": 16,
     "metadata": {},
     "output_type": "execute_result"
    }
   ],
   "source": [
    "metrics.get_results()[\"Mean IoU\"]"
   ]
  },
  {
   "cell_type": "markdown",
   "metadata": {},
   "source": [
    "acdc fog"
   ]
  },
  {
   "cell_type": "code",
   "execution_count": 15,
   "metadata": {},
   "outputs": [
    {
     "data": {
      "text/plain": [
       "0.1698328765206157"
      ]
     },
     "execution_count": 15,
     "metadata": {},
     "output_type": "execute_result"
    }
   ],
   "source": [
    "metrics.get_results()[\"Mean IoU\"]"
   ]
  },
  {
   "cell_type": "code",
   "execution_count": 66,
   "metadata": {},
   "outputs": [
    {
     "data": {
      "text/plain": [
       "0.22358372536298143"
      ]
     },
     "execution_count": 66,
     "metadata": {},
     "output_type": "execute_result"
    }
   ],
   "source": [
    "metrics.get_results()[\"Mean IoU\"]"
   ]
  },
  {
   "cell_type": "markdown",
   "metadata": {},
   "source": [
    "acdc rain"
   ]
  },
  {
   "cell_type": "code",
   "execution_count": 52,
   "metadata": {},
   "outputs": [
    {
     "data": {
      "text/plain": [
       "0.21383255046953673"
      ]
     },
     "execution_count": 52,
     "metadata": {},
     "output_type": "execute_result"
    }
   ],
   "source": [
    "metrics.get_results()[\"Mean IoU\"]"
   ]
  },
  {
   "cell_type": "code",
   "execution_count": 47,
   "metadata": {},
   "outputs": [
    {
     "data": {
      "text/plain": [
       "0.19951423009704491"
      ]
     },
     "execution_count": 47,
     "metadata": {},
     "output_type": "execute_result"
    }
   ],
   "source": [
    "metrics.get_results()[\"Mean IoU\"] #focal loss"
   ]
  },
  {
   "cell_type": "code",
   "execution_count": 10,
   "metadata": {},
   "outputs": [],
   "source": [
    "tr_transform_adapt = transforms.Compose([\n",
    "            transforms.ToPILImage(),\n",
    "            transforms.RandomCrop((512,1024)),\n",
    "            transforms.RandomHorizontalFlip(),\n",
    "            transforms.ToTensor(),\n",
    "            transforms.Normalize(mean=[0.485, 0.456, 0.406], std=[0.229, 0.224, 0.225])\n",
    "        ])"
   ]
  },
  {
   "cell_type": "code",
   "execution_count": 11,
   "metadata": {},
   "outputs": [],
   "source": [
    "NUM_SAMPLES = 80"
   ]
  },
  {
   "cell_type": "code",
   "execution_count": 12,
   "metadata": {},
   "outputs": [],
   "source": [
    "NR_AUGMENTS = 8"
   ]
  },
  {
   "cell_type": "code",
   "execution_count": 13,
   "metadata": {},
   "outputs": [],
   "source": [
    "def get_adaption_inputs(img, tr_transform_adapt, device):\n",
    "    img = img.squeeze(0)\n",
    "    inputs = [(tr_transform_adapt(img)) for _ in range(NR_AUGMENTS)]\n",
    "    inputs = torch.stack(inputs)\n",
    "    #inputs_ssh, _ = rotation.rotate_batch(inputs, 'rand')\n",
    "    #inputs_ssh = inputs_ssh.to(device, non_blocking=True)\n",
    "    #inputs_ssh /= 255\n",
    "    return inputs"
   ]
  },
  {
   "cell_type": "code",
   "execution_count": 14,
   "metadata": {},
   "outputs": [
    {
     "name": "stderr",
     "output_type": "stream",
     "text": [
      "  0%|          | 0/500 [00:00<?, ?it/s]"
     ]
    },
    {
     "name": "stderr",
     "output_type": "stream",
     "text": [
      "100%|██████████| 500/500 [01:16<00:00,  6.50it/s]\n",
      "100%|██████████| 500/500 [01:12<00:00,  6.87it/s]\n",
      "  1%|▏         | 1/80 [01:15<1:39:21, 75.46s/it]"
     ]
    },
    {
     "name": "stdout",
     "output_type": "stream",
     "text": [
      "0.5286895430738616\n"
     ]
    },
    {
     "name": "stderr",
     "output_type": "stream",
     "text": [
      "100%|██████████| 500/500 [01:09<00:00,  7.21it/s]\n",
      "  2%|▎         | 2/80 [02:25<1:34:07, 72.40s/it]"
     ]
    },
    {
     "name": "stdout",
     "output_type": "stream",
     "text": [
      "0.5489159101802263\n"
     ]
    },
    {
     "name": "stderr",
     "output_type": "stream",
     "text": [
      "100%|██████████| 500/500 [01:10<00:00,  7.13it/s]\n",
      "  4%|▍         | 3/80 [03:36<1:32:08, 71.80s/it]"
     ]
    },
    {
     "name": "stdout",
     "output_type": "stream",
     "text": [
      "0.5531564628609372\n"
     ]
    },
    {
     "name": "stderr",
     "output_type": "stream",
     "text": [
      "100%|██████████| 500/500 [01:10<00:00,  7.05it/s]\n",
      "  5%|▌         | 4/80 [04:48<1:30:56, 71.79s/it]"
     ]
    },
    {
     "name": "stdout",
     "output_type": "stream",
     "text": [
      "0.5658512078151132\n"
     ]
    },
    {
     "name": "stderr",
     "output_type": "stream",
     "text": [
      "100%|██████████| 500/500 [01:10<00:00,  7.10it/s]\n",
      "  6%|▋         | 5/80 [05:59<1:29:30, 71.61s/it]"
     ]
    },
    {
     "name": "stdout",
     "output_type": "stream",
     "text": [
      "0.5727024589290788\n"
     ]
    },
    {
     "name": "stderr",
     "output_type": "stream",
     "text": [
      "100%|██████████| 500/500 [01:09<00:00,  7.24it/s]\n",
      "  8%|▊         | 6/80 [07:09<1:27:38, 71.06s/it]"
     ]
    },
    {
     "name": "stdout",
     "output_type": "stream",
     "text": [
      "0.5837472587073266\n"
     ]
    },
    {
     "name": "stderr",
     "output_type": "stream",
     "text": [
      "100%|██████████| 500/500 [01:09<00:00,  7.15it/s]\n",
      "  9%|▉         | 7/80 [08:20<1:26:22, 70.99s/it]"
     ]
    },
    {
     "name": "stdout",
     "output_type": "stream",
     "text": [
      "0.5901165148105628\n"
     ]
    },
    {
     "name": "stderr",
     "output_type": "stream",
     "text": [
      "100%|██████████| 500/500 [01:10<00:00,  7.11it/s]\n",
      " 10%|█         | 8/80 [09:31<1:25:15, 71.04s/it]"
     ]
    },
    {
     "name": "stdout",
     "output_type": "stream",
     "text": [
      "0.5932240013089558\n"
     ]
    },
    {
     "name": "stderr",
     "output_type": "stream",
     "text": [
      "100%|██████████| 500/500 [01:10<00:00,  7.14it/s]\n",
      " 11%|█▏        | 9/80 [10:42<1:24:01, 71.01s/it]"
     ]
    },
    {
     "name": "stdout",
     "output_type": "stream",
     "text": [
      "0.5968402693467203\n"
     ]
    },
    {
     "name": "stderr",
     "output_type": "stream",
     "text": [
      "100%|██████████| 500/500 [01:10<00:00,  7.12it/s]\n",
      " 12%|█▎        | 10/80 [11:53<1:22:53, 71.05s/it]"
     ]
    },
    {
     "name": "stdout",
     "output_type": "stream",
     "text": [
      "0.5974867033843396\n"
     ]
    },
    {
     "name": "stderr",
     "output_type": "stream",
     "text": [
      "100%|██████████| 500/500 [01:10<00:00,  7.13it/s]\n",
      " 14%|█▍        | 11/80 [13:04<1:21:41, 71.04s/it]"
     ]
    },
    {
     "name": "stdout",
     "output_type": "stream",
     "text": [
      "0.5959832062837856\n"
     ]
    },
    {
     "name": "stderr",
     "output_type": "stream",
     "text": [
      "100%|██████████| 500/500 [01:10<00:00,  7.14it/s]\n",
      " 15%|█▌        | 12/80 [14:15<1:20:29, 71.02s/it]"
     ]
    },
    {
     "name": "stdout",
     "output_type": "stream",
     "text": [
      "0.5945298449365597\n"
     ]
    },
    {
     "name": "stderr",
     "output_type": "stream",
     "text": [
      "100%|██████████| 500/500 [01:09<00:00,  7.15it/s]\n",
      " 16%|█▋        | 13/80 [15:26<1:19:14, 70.96s/it]"
     ]
    },
    {
     "name": "stdout",
     "output_type": "stream",
     "text": [
      "0.5937628462198589\n"
     ]
    },
    {
     "name": "stderr",
     "output_type": "stream",
     "text": [
      "100%|██████████| 500/500 [01:10<00:00,  7.14it/s]\n",
      " 18%|█▊        | 14/80 [16:37<1:18:02, 70.94s/it]"
     ]
    },
    {
     "name": "stdout",
     "output_type": "stream",
     "text": [
      "0.5963957470779837\n"
     ]
    },
    {
     "name": "stderr",
     "output_type": "stream",
     "text": [
      "100%|██████████| 500/500 [01:09<00:00,  7.16it/s]\n",
      " 19%|█▉        | 15/80 [17:48<1:16:46, 70.86s/it]"
     ]
    },
    {
     "name": "stdout",
     "output_type": "stream",
     "text": [
      "0.5971678968523424\n"
     ]
    },
    {
     "name": "stderr",
     "output_type": "stream",
     "text": [
      "100%|██████████| 500/500 [01:08<00:00,  7.26it/s]\n",
      " 20%|██        | 16/80 [18:58<1:15:12, 70.50s/it]"
     ]
    },
    {
     "name": "stdout",
     "output_type": "stream",
     "text": [
      "0.59904740907582\n"
     ]
    },
    {
     "name": "stderr",
     "output_type": "stream",
     "text": [
      "100%|██████████| 500/500 [01:10<00:00,  7.09it/s]\n",
      " 21%|██▏       | 17/80 [20:09<1:14:19, 70.78s/it]"
     ]
    },
    {
     "name": "stdout",
     "output_type": "stream",
     "text": [
      "0.6012184209764846\n"
     ]
    },
    {
     "name": "stderr",
     "output_type": "stream",
     "text": [
      "100%|██████████| 500/500 [01:10<00:00,  7.12it/s]\n",
      " 22%|██▎       | 18/80 [21:20<1:13:14, 70.87s/it]"
     ]
    },
    {
     "name": "stdout",
     "output_type": "stream",
     "text": [
      "0.6001314683562493\n"
     ]
    },
    {
     "name": "stderr",
     "output_type": "stream",
     "text": [
      "100%|██████████| 500/500 [01:10<00:00,  7.14it/s]\n",
      " 24%|██▍       | 19/80 [22:31<1:12:04, 70.89s/it]"
     ]
    },
    {
     "name": "stdout",
     "output_type": "stream",
     "text": [
      "0.5985458668718202\n"
     ]
    },
    {
     "name": "stderr",
     "output_type": "stream",
     "text": [
      "100%|██████████| 500/500 [01:10<00:00,  7.14it/s]\n",
      " 25%|██▌       | 20/80 [23:42<1:10:54, 70.92s/it]"
     ]
    },
    {
     "name": "stdout",
     "output_type": "stream",
     "text": [
      "0.5985358207265519\n"
     ]
    },
    {
     "name": "stderr",
     "output_type": "stream",
     "text": [
      "100%|██████████| 500/500 [01:10<00:00,  7.11it/s]\n",
      " 26%|██▋       | 21/80 [24:53<1:09:49, 71.01s/it]"
     ]
    },
    {
     "name": "stdout",
     "output_type": "stream",
     "text": [
      "0.5964372126701695\n"
     ]
    },
    {
     "name": "stderr",
     "output_type": "stream",
     "text": [
      "100%|██████████| 500/500 [01:10<00:00,  7.10it/s]\n",
      " 28%|██▊       | 22/80 [26:04<1:08:44, 71.10s/it]"
     ]
    },
    {
     "name": "stdout",
     "output_type": "stream",
     "text": [
      "0.5985327657527971\n"
     ]
    },
    {
     "name": "stderr",
     "output_type": "stream",
     "text": [
      "100%|██████████| 500/500 [01:09<00:00,  7.15it/s]\n",
      " 29%|██▉       | 23/80 [27:15<1:07:29, 71.05s/it]"
     ]
    },
    {
     "name": "stdout",
     "output_type": "stream",
     "text": [
      "0.5977763037662536\n"
     ]
    },
    {
     "name": "stderr",
     "output_type": "stream",
     "text": [
      "100%|██████████| 500/500 [01:09<00:00,  7.20it/s]\n",
      " 30%|███       | 24/80 [28:26<1:06:06, 70.82s/it]"
     ]
    },
    {
     "name": "stdout",
     "output_type": "stream",
     "text": [
      "0.5979955690475959\n"
     ]
    },
    {
     "name": "stderr",
     "output_type": "stream",
     "text": [
      "100%|██████████| 500/500 [01:10<00:00,  7.10it/s]\n",
      " 31%|███▏      | 25/80 [29:37<1:05:03, 70.96s/it]"
     ]
    },
    {
     "name": "stdout",
     "output_type": "stream",
     "text": [
      "0.5986989984345958\n"
     ]
    },
    {
     "name": "stderr",
     "output_type": "stream",
     "text": [
      "100%|██████████| 500/500 [01:10<00:00,  7.06it/s]\n",
      " 32%|███▎      | 26/80 [30:49<1:04:03, 71.17s/it]"
     ]
    },
    {
     "name": "stdout",
     "output_type": "stream",
     "text": [
      "0.5987764039258524\n"
     ]
    },
    {
     "name": "stderr",
     "output_type": "stream",
     "text": [
      "100%|██████████| 500/500 [01:10<00:00,  7.14it/s]\n",
      " 34%|███▍      | 27/80 [32:00<1:02:49, 71.11s/it]"
     ]
    },
    {
     "name": "stdout",
     "output_type": "stream",
     "text": [
      "0.5982447874125449\n"
     ]
    },
    {
     "name": "stderr",
     "output_type": "stream",
     "text": [
      "100%|██████████| 500/500 [01:09<00:00,  7.15it/s]\n",
      " 35%|███▌      | 28/80 [33:10<1:01:33, 71.02s/it]"
     ]
    },
    {
     "name": "stdout",
     "output_type": "stream",
     "text": [
      "0.5979994874152152\n"
     ]
    },
    {
     "name": "stderr",
     "output_type": "stream",
     "text": [
      "100%|██████████| 500/500 [01:10<00:00,  7.13it/s]\n",
      " 36%|███▋      | 29/80 [34:21<1:00:21, 71.01s/it]"
     ]
    },
    {
     "name": "stdout",
     "output_type": "stream",
     "text": [
      "0.5974921252951536\n"
     ]
    },
    {
     "name": "stderr",
     "output_type": "stream",
     "text": [
      "100%|██████████| 500/500 [01:10<00:00,  7.12it/s]\n",
      " 38%|███▊      | 30/80 [35:33<59:12, 71.06s/it]  "
     ]
    },
    {
     "name": "stdout",
     "output_type": "stream",
     "text": [
      "0.5967181026652744\n"
     ]
    },
    {
     "name": "stderr",
     "output_type": "stream",
     "text": [
      "100%|██████████| 500/500 [01:09<00:00,  7.16it/s]\n",
      " 39%|███▉      | 31/80 [36:43<57:55, 70.93s/it]"
     ]
    },
    {
     "name": "stdout",
     "output_type": "stream",
     "text": [
      "0.5987456765598358\n"
     ]
    },
    {
     "name": "stderr",
     "output_type": "stream",
     "text": [
      "100%|██████████| 500/500 [01:10<00:00,  7.07it/s]\n",
      " 40%|████      | 32/80 [37:55<56:53, 71.12s/it]"
     ]
    },
    {
     "name": "stdout",
     "output_type": "stream",
     "text": [
      "0.5990875363137925\n"
     ]
    },
    {
     "name": "stderr",
     "output_type": "stream",
     "text": [
      "100%|██████████| 500/500 [01:10<00:00,  7.07it/s]\n",
      " 41%|████▏     | 33/80 [39:06<55:49, 71.27s/it]"
     ]
    },
    {
     "name": "stdout",
     "output_type": "stream",
     "text": [
      "0.5990928407062286\n"
     ]
    },
    {
     "name": "stderr",
     "output_type": "stream",
     "text": [
      "100%|██████████| 500/500 [01:10<00:00,  7.14it/s]\n",
      " 42%|████▎     | 34/80 [40:17<54:34, 71.19s/it]"
     ]
    },
    {
     "name": "stdout",
     "output_type": "stream",
     "text": [
      "0.5992977987968822\n"
     ]
    },
    {
     "name": "stderr",
     "output_type": "stream",
     "text": [
      "100%|██████████| 500/500 [01:10<00:00,  7.05it/s]\n",
      " 44%|████▍     | 35/80 [41:29<53:31, 71.38s/it]"
     ]
    },
    {
     "name": "stdout",
     "output_type": "stream",
     "text": [
      "0.5996159024938014\n"
     ]
    },
    {
     "name": "stderr",
     "output_type": "stream",
     "text": [
      "100%|██████████| 500/500 [01:09<00:00,  7.16it/s]\n",
      " 45%|████▌     | 36/80 [42:40<52:12, 71.19s/it]"
     ]
    },
    {
     "name": "stdout",
     "output_type": "stream",
     "text": [
      "0.5990917753545935\n"
     ]
    },
    {
     "name": "stderr",
     "output_type": "stream",
     "text": [
      "100%|██████████| 500/500 [01:09<00:00,  7.24it/s]\n",
      " 46%|████▋     | 37/80 [43:50<50:45, 70.84s/it]"
     ]
    },
    {
     "name": "stdout",
     "output_type": "stream",
     "text": [
      "0.5992386943212473\n"
     ]
    },
    {
     "name": "stderr",
     "output_type": "stream",
     "text": [
      "100%|██████████| 500/500 [01:10<00:00,  7.07it/s]\n",
      " 48%|████▊     | 38/80 [45:02<49:44, 71.07s/it]"
     ]
    },
    {
     "name": "stdout",
     "output_type": "stream",
     "text": [
      "0.5996866841609326\n"
     ]
    },
    {
     "name": "stderr",
     "output_type": "stream",
     "text": [
      "100%|██████████| 500/500 [01:09<00:00,  7.18it/s]\n",
      " 49%|████▉     | 39/80 [46:12<48:27, 70.91s/it]"
     ]
    },
    {
     "name": "stdout",
     "output_type": "stream",
     "text": [
      "0.600032476116073\n"
     ]
    },
    {
     "name": "stderr",
     "output_type": "stream",
     "text": [
      "100%|██████████| 500/500 [01:09<00:00,  7.18it/s]\n",
      " 50%|█████     | 40/80 [47:23<47:11, 70.79s/it]"
     ]
    },
    {
     "name": "stdout",
     "output_type": "stream",
     "text": [
      "0.6001720917360748\n"
     ]
    },
    {
     "name": "stderr",
     "output_type": "stream",
     "text": [
      "100%|██████████| 500/500 [01:09<00:00,  7.17it/s]\n",
      " 51%|█████▏    | 41/80 [48:33<45:59, 70.76s/it]"
     ]
    },
    {
     "name": "stdout",
     "output_type": "stream",
     "text": [
      "0.6000005608717555\n"
     ]
    },
    {
     "name": "stderr",
     "output_type": "stream",
     "text": [
      "100%|██████████| 500/500 [01:10<00:00,  7.05it/s]\n",
      " 52%|█████▎    | 42/80 [49:45<45:01, 71.10s/it]"
     ]
    },
    {
     "name": "stdout",
     "output_type": "stream",
     "text": [
      "0.5992829614517046\n"
     ]
    },
    {
     "name": "stderr",
     "output_type": "stream",
     "text": [
      "100%|██████████| 500/500 [01:10<00:00,  7.12it/s]\n",
      " 54%|█████▍    | 43/80 [50:56<43:50, 71.09s/it]"
     ]
    },
    {
     "name": "stdout",
     "output_type": "stream",
     "text": [
      "0.599558894434112\n"
     ]
    },
    {
     "name": "stderr",
     "output_type": "stream",
     "text": [
      "100%|██████████| 500/500 [01:09<00:00,  7.17it/s]\n",
      " 55%|█████▌    | 44/80 [52:07<42:34, 70.95s/it]"
     ]
    },
    {
     "name": "stdout",
     "output_type": "stream",
     "text": [
      "0.5993998173919128\n"
     ]
    },
    {
     "name": "stderr",
     "output_type": "stream",
     "text": [
      "100%|██████████| 500/500 [01:09<00:00,  7.17it/s]\n",
      " 56%|█████▋    | 45/80 [53:18<41:20, 70.88s/it]"
     ]
    },
    {
     "name": "stdout",
     "output_type": "stream",
     "text": [
      "0.5994236127128917\n"
     ]
    },
    {
     "name": "stderr",
     "output_type": "stream",
     "text": [
      "100%|██████████| 500/500 [01:10<00:00,  7.10it/s]\n",
      " 57%|█████▊    | 46/80 [54:29<40:14, 71.01s/it]"
     ]
    },
    {
     "name": "stdout",
     "output_type": "stream",
     "text": [
      "0.5993274054126073\n"
     ]
    },
    {
     "name": "stderr",
     "output_type": "stream",
     "text": [
      "100%|██████████| 500/500 [01:09<00:00,  7.18it/s]\n",
      " 59%|█████▉    | 47/80 [55:39<38:58, 70.87s/it]"
     ]
    },
    {
     "name": "stdout",
     "output_type": "stream",
     "text": [
      "0.5998638797819766\n"
     ]
    },
    {
     "name": "stderr",
     "output_type": "stream",
     "text": [
      "100%|██████████| 500/500 [01:08<00:00,  7.25it/s]\n",
      " 60%|██████    | 48/80 [56:49<37:37, 70.54s/it]"
     ]
    },
    {
     "name": "stdout",
     "output_type": "stream",
     "text": [
      "0.5999941307195846\n"
     ]
    },
    {
     "name": "stderr",
     "output_type": "stream",
     "text": [
      "100%|██████████| 500/500 [01:10<00:00,  7.08it/s]\n",
      " 61%|██████▏   | 49/80 [58:01<36:35, 70.83s/it]"
     ]
    },
    {
     "name": "stdout",
     "output_type": "stream",
     "text": [
      "0.6003614677217539\n"
     ]
    },
    {
     "name": "stderr",
     "output_type": "stream",
     "text": [
      "100%|██████████| 500/500 [01:09<00:00,  7.18it/s]\n",
      " 62%|██████▎   | 50/80 [59:11<35:22, 70.77s/it]"
     ]
    },
    {
     "name": "stdout",
     "output_type": "stream",
     "text": [
      "0.600441170636978\n"
     ]
    },
    {
     "name": "stderr",
     "output_type": "stream",
     "text": [
      "100%|██████████| 500/500 [01:09<00:00,  7.19it/s]\n",
      " 64%|██████▍   | 51/80 [1:00:22<34:09, 70.66s/it]"
     ]
    },
    {
     "name": "stdout",
     "output_type": "stream",
     "text": [
      "0.600311297845923\n"
     ]
    },
    {
     "name": "stderr",
     "output_type": "stream",
     "text": [
      "100%|██████████| 500/500 [01:09<00:00,  7.18it/s]\n",
      " 65%|██████▌   | 52/80 [1:01:32<32:57, 70.61s/it]"
     ]
    },
    {
     "name": "stdout",
     "output_type": "stream",
     "text": [
      "0.6003627232313392\n"
     ]
    },
    {
     "name": "stderr",
     "output_type": "stream",
     "text": [
      "100%|██████████| 500/500 [01:10<00:00,  7.14it/s]\n",
      " 66%|██████▋   | 53/80 [1:02:43<31:48, 70.70s/it]"
     ]
    },
    {
     "name": "stdout",
     "output_type": "stream",
     "text": [
      "0.6000782427822138\n"
     ]
    },
    {
     "name": "stderr",
     "output_type": "stream",
     "text": [
      "100%|██████████| 500/500 [01:10<00:00,  7.11it/s]\n",
      " 68%|██████▊   | 54/80 [1:03:54<30:41, 70.84s/it]"
     ]
    },
    {
     "name": "stdout",
     "output_type": "stream",
     "text": [
      "0.6005384644796962\n"
     ]
    },
    {
     "name": "stderr",
     "output_type": "stream",
     "text": [
      "100%|██████████| 500/500 [01:09<00:00,  7.18it/s]\n",
      " 69%|██████▉   | 55/80 [1:05:05<29:29, 70.77s/it]"
     ]
    },
    {
     "name": "stdout",
     "output_type": "stream",
     "text": [
      "0.6007710149472842\n"
     ]
    },
    {
     "name": "stderr",
     "output_type": "stream",
     "text": [
      "100%|██████████| 500/500 [01:12<00:00,  6.92it/s]\n",
      " 70%|███████   | 56/80 [1:06:18<28:35, 71.47s/it]"
     ]
    },
    {
     "name": "stdout",
     "output_type": "stream",
     "text": [
      "0.6007236529939152\n"
     ]
    },
    {
     "name": "stderr",
     "output_type": "stream",
     "text": [
      "100%|██████████| 500/500 [01:15<00:00,  6.64it/s]\n",
      " 71%|███████▏  | 57/80 [1:07:34<27:56, 72.87s/it]"
     ]
    },
    {
     "name": "stdout",
     "output_type": "stream",
     "text": [
      "0.6006872661431294\n"
     ]
    },
    {
     "name": "stderr",
     "output_type": "stream",
     "text": [
      "100%|██████████| 500/500 [02:02<00:00,  4.09it/s]\n",
      " 72%|███████▎  | 58/80 [1:09:37<32:15, 87.96s/it]"
     ]
    },
    {
     "name": "stdout",
     "output_type": "stream",
     "text": [
      "0.6004116370086032\n"
     ]
    },
    {
     "name": "stderr",
     "output_type": "stream",
     "text": [
      "100%|██████████| 500/500 [02:02<00:00,  4.07it/s]\n",
      " 74%|███████▍  | 59/80 [1:11:41<34:33, 98.74s/it]"
     ]
    },
    {
     "name": "stdout",
     "output_type": "stream",
     "text": [
      "0.6003946171550428\n"
     ]
    },
    {
     "name": "stderr",
     "output_type": "stream",
     "text": [
      "100%|██████████| 500/500 [02:02<00:00,  4.07it/s]\n",
      " 75%|███████▌  | 60/80 [1:13:45<35:24, 106.22s/it]"
     ]
    },
    {
     "name": "stdout",
     "output_type": "stream",
     "text": [
      "0.6004065725313077\n"
     ]
    },
    {
     "name": "stderr",
     "output_type": "stream",
     "text": [
      "100%|██████████| 500/500 [02:02<00:00,  4.08it/s]\n",
      " 76%|███████▋  | 61/80 [1:15:48<35:15, 111.35s/it]"
     ]
    },
    {
     "name": "stdout",
     "output_type": "stream",
     "text": [
      "0.6001164912639952\n"
     ]
    },
    {
     "name": "stderr",
     "output_type": "stream",
     "text": [
      "100%|██████████| 500/500 [02:03<00:00,  4.03it/s]\n",
      " 78%|███████▊  | 62/80 [1:17:53<34:37, 115.43s/it]"
     ]
    },
    {
     "name": "stdout",
     "output_type": "stream",
     "text": [
      "0.6002370536940874\n"
     ]
    },
    {
     "name": "stderr",
     "output_type": "stream",
     "text": [
      "100%|██████████| 500/500 [02:02<00:00,  4.09it/s]\n",
      " 79%|███████▉  | 63/80 [1:19:56<33:21, 117.75s/it]"
     ]
    },
    {
     "name": "stdout",
     "output_type": "stream",
     "text": [
      "0.6000401436913066\n"
     ]
    },
    {
     "name": "stderr",
     "output_type": "stream",
     "text": [
      "100%|██████████| 500/500 [02:02<00:00,  4.08it/s]\n",
      " 80%|████████  | 64/80 [1:22:00<31:50, 119.44s/it]"
     ]
    },
    {
     "name": "stdout",
     "output_type": "stream",
     "text": [
      "0.6000604464296077\n"
     ]
    },
    {
     "name": "stderr",
     "output_type": "stream",
     "text": [
      "100%|██████████| 500/500 [02:03<00:00,  4.05it/s]\n",
      " 81%|████████▏ | 65/80 [1:24:04<30:13, 120.91s/it]"
     ]
    },
    {
     "name": "stdout",
     "output_type": "stream",
     "text": [
      "0.5999896755671411\n"
     ]
    },
    {
     "name": "stderr",
     "output_type": "stream",
     "text": [
      "100%|██████████| 500/500 [02:02<00:00,  4.07it/s]\n",
      " 82%|████████▎ | 66/80 [1:26:08<28:24, 121.74s/it]"
     ]
    },
    {
     "name": "stdout",
     "output_type": "stream",
     "text": [
      "0.5997799749103703\n"
     ]
    },
    {
     "name": "stderr",
     "output_type": "stream",
     "text": [
      "100%|██████████| 500/500 [02:02<00:00,  4.08it/s]\n",
      " 84%|████████▍ | 67/80 [1:28:11<26:29, 122.23s/it]"
     ]
    },
    {
     "name": "stdout",
     "output_type": "stream",
     "text": [
      "0.599670361578624\n"
     ]
    },
    {
     "name": "stderr",
     "output_type": "stream",
     "text": [
      "100%|██████████| 500/500 [02:03<00:00,  4.03it/s]\n",
      " 85%|████████▌ | 68/80 [1:30:16<24:36, 123.01s/it]"
     ]
    },
    {
     "name": "stdout",
     "output_type": "stream",
     "text": [
      "0.5999113525042672\n"
     ]
    },
    {
     "name": "stderr",
     "output_type": "stream",
     "text": [
      "100%|██████████| 500/500 [02:03<00:00,  4.05it/s]\n",
      " 86%|████████▋ | 69/80 [1:32:20<22:38, 123.46s/it]"
     ]
    },
    {
     "name": "stdout",
     "output_type": "stream",
     "text": [
      "0.599828101166581\n"
     ]
    },
    {
     "name": "stderr",
     "output_type": "stream",
     "text": [
      "100%|██████████| 500/500 [02:03<00:00,  4.05it/s]\n",
      " 88%|████████▊ | 70/80 [1:34:25<20:36, 123.68s/it]"
     ]
    },
    {
     "name": "stdout",
     "output_type": "stream",
     "text": [
      "0.5997941556489522\n"
     ]
    },
    {
     "name": "stderr",
     "output_type": "stream",
     "text": [
      "100%|██████████| 500/500 [02:03<00:00,  4.06it/s]\n",
      " 89%|████████▉ | 71/80 [1:36:29<18:34, 123.83s/it]"
     ]
    },
    {
     "name": "stdout",
     "output_type": "stream",
     "text": [
      "0.5997414690473725\n"
     ]
    },
    {
     "name": "stderr",
     "output_type": "stream",
     "text": [
      "100%|██████████| 500/500 [02:03<00:00,  4.04it/s]\n",
      " 90%|█████████ | 72/80 [1:38:33<16:32, 124.04s/it]"
     ]
    },
    {
     "name": "stdout",
     "output_type": "stream",
     "text": [
      "0.5997870471497672\n"
     ]
    },
    {
     "name": "stderr",
     "output_type": "stream",
     "text": [
      "100%|██████████| 500/500 [02:03<00:00,  4.05it/s]\n",
      " 91%|█████████▏| 73/80 [1:40:38<14:28, 124.11s/it]"
     ]
    },
    {
     "name": "stdout",
     "output_type": "stream",
     "text": [
      "0.5998868440247859\n"
     ]
    },
    {
     "name": "stderr",
     "output_type": "stream",
     "text": [
      "100%|██████████| 500/500 [02:04<00:00,  4.03it/s]\n",
      " 92%|█████████▎| 74/80 [1:42:43<12:26, 124.39s/it]"
     ]
    },
    {
     "name": "stdout",
     "output_type": "stream",
     "text": [
      "0.6000010086341403\n"
     ]
    },
    {
     "name": "stderr",
     "output_type": "stream",
     "text": [
      "100%|██████████| 500/500 [02:03<00:00,  4.06it/s]\n",
      " 94%|█████████▍| 75/80 [1:44:47<10:21, 124.31s/it]"
     ]
    },
    {
     "name": "stdout",
     "output_type": "stream",
     "text": [
      "0.6001249491882232\n"
     ]
    },
    {
     "name": "stderr",
     "output_type": "stream",
     "text": [
      "100%|██████████| 500/500 [02:03<00:00,  4.04it/s]\n",
      " 95%|█████████▌| 76/80 [1:46:52<08:17, 124.46s/it]"
     ]
    },
    {
     "name": "stdout",
     "output_type": "stream",
     "text": [
      "0.6003328079917631\n"
     ]
    },
    {
     "name": "stderr",
     "output_type": "stream",
     "text": [
      "100%|██████████| 500/500 [02:04<00:00,  4.02it/s]\n",
      " 96%|█████████▋| 77/80 [1:48:57<06:14, 124.70s/it]"
     ]
    },
    {
     "name": "stdout",
     "output_type": "stream",
     "text": [
      "0.6002760512331027\n"
     ]
    },
    {
     "name": "stderr",
     "output_type": "stream",
     "text": [
      "100%|██████████| 500/500 [02:04<00:00,  4.03it/s]\n",
      " 98%|█████████▊| 78/80 [1:51:02<04:09, 124.79s/it]"
     ]
    },
    {
     "name": "stdout",
     "output_type": "stream",
     "text": [
      "0.6001814137421729\n"
     ]
    },
    {
     "name": "stderr",
     "output_type": "stream",
     "text": [
      "100%|██████████| 500/500 [02:03<00:00,  4.05it/s]\n",
      " 99%|█████████▉| 79/80 [1:53:06<02:04, 124.64s/it]"
     ]
    },
    {
     "name": "stdout",
     "output_type": "stream",
     "text": [
      "0.6001732361855547\n"
     ]
    },
    {
     "name": "stderr",
     "output_type": "stream",
     "text": [
      "100%|██████████| 500/500 [02:03<00:00,  4.06it/s]\n",
      "100%|██████████| 80/80 [1:55:10<00:00, 86.39s/it] "
     ]
    },
    {
     "name": "stdout",
     "output_type": "stream",
     "text": [
      "0.6003586886512678\n"
     ]
    },
    {
     "name": "stderr",
     "output_type": "stream",
     "text": [
      "\n"
     ]
    }
   ],
   "source": [
    "mom_pre = 0.1\n",
    "DECAY_FACTOR = 0.94\n",
    "MIN_MOMENTUM_CONSTANT = 0.005\n",
    "\n",
    "model.to(device)\n",
    "model.eval()\n",
    "results = []\n",
    "train.validate(model,device,cityscapes_val_loader,metrics)\n",
    "results.append(metrics.get_results()[\"Mean IoU\"])\n",
    "\n",
    "with torch.no_grad():\n",
    "    for i in tqdm(range(NUM_SAMPLES)):\n",
    "        image, _ = next(iter(cityscapes_tensor_loader))\n",
    "        mom_new = (mom_pre * DECAY_FACTOR)\n",
    "        #for m in model.module.backbone.modules():\n",
    "        for m in model.modules():\n",
    "            if isinstance(m, torch.nn.modules.batchnorm._BatchNorm):\n",
    "                m.momentum = mom_new + MIN_MOMENTUM_CONSTANT\n",
    "                m.train()\n",
    "\n",
    "        mom_pre = mom_new\n",
    "\n",
    "        #augment\n",
    "        inputs = get_adaption_inputs(image, tr_transform_adapt, device)\n",
    "\n",
    "        #forward pass\n",
    "        _ = model(inputs)\n",
    "\n",
    "        #statistics\n",
    "        train.validate(model,device,cityscapes_val_loader,metrics)\n",
    "        results.append(metrics.get_results()[\"Mean IoU\"])\n",
    "        print(metrics.get_results()[\"Mean IoU\"])"
   ]
  },
  {
   "cell_type": "markdown",
   "metadata": {},
   "source": [
    "saving\n"
   ]
  },
  {
   "cell_type": "code",
   "execution_count": 15,
   "metadata": {},
   "outputs": [],
   "source": [
    "model_path = 'adapted_models/resnet_50_CS_fog'\n",
    "torch.save({'model': model.state_dict()}, model_path)"
   ]
  },
  {
   "cell_type": "markdown",
   "metadata": {},
   "source": [
    "mobile net rain focal loss"
   ]
  },
  {
   "cell_type": "code",
   "execution_count": 53,
   "metadata": {},
   "outputs": [
    {
     "data": {
      "text/plain": [
       "[0.19951423009704491,\n",
       " 0.23522699277815864,\n",
       " 0.25380926085806843,\n",
       " 0.2687091107079926,\n",
       " 0.27989655787738266,\n",
       " 0.2923545404633591,\n",
       " 0.3000074617340478,\n",
       " 0.30918932095442,\n",
       " 0.31429815182929516,\n",
       " 0.320441039411892,\n",
       " 0.32507689326194683,\n",
       " 0.32531040150184043,\n",
       " 0.3252074074445163,\n",
       " 0.3266964552721263,\n",
       " 0.3280010392202381,\n",
       " 0.3277242165535378,\n",
       " 0.32925083416519957,\n",
       " 0.3318191764417547,\n",
       " 0.3332569711346607,\n",
       " 0.33162890174693915,\n",
       " 0.332611712082106,\n",
       " 0.3345754192681956,\n",
       " 0.3334261256770934,\n",
       " 0.3325838284796621,\n",
       " 0.332647139925351,\n",
       " 0.3332870321741115,\n",
       " 0.33134553999571853,\n",
       " 0.3310127189692221,\n",
       " 0.3307834886803408,\n",
       " 0.3297981751384663,\n",
       " 0.33065654045976645,\n",
       " 0.32963419879692557,\n",
       " 0.329413571497935,\n",
       " 0.32860112260071,\n",
       " 0.33012829982675357,\n",
       " 0.3295365261816002,\n",
       " 0.3298136525351933,\n",
       " 0.32923801581524925,\n",
       " 0.32878208885716925,\n",
       " 0.32941048387022065,\n",
       " 0.32986578090248636,\n",
       " 0.33016835385908755,\n",
       " 0.33005005614292743,\n",
       " 0.3300979464683853,\n",
       " 0.3300457182067725,\n",
       " 0.32928090495255874,\n",
       " 0.3292742320031036,\n",
       " 0.32951381154062015,\n",
       " 0.3290660596061386,\n",
       " 0.32899756744326636,\n",
       " 0.3286745919681054,\n",
       " 0.328511776999182,\n",
       " 0.32851386023820267,\n",
       " 0.3290636090521992,\n",
       " 0.32947755087592634,\n",
       " 0.3293934305026377,\n",
       " 0.3290349839692207,\n",
       " 0.32925514783445853,\n",
       " 0.3297599742037217,\n",
       " 0.32941132416269414,\n",
       " 0.32981599273921414,\n",
       " 0.3301481065237625,\n",
       " 0.33042365616667846,\n",
       " 0.330755785686167,\n",
       " 0.3305487973105034,\n",
       " 0.33039646181950766,\n",
       " 0.3307160523638245,\n",
       " 0.3308020916327981,\n",
       " 0.330884500954522,\n",
       " 0.33090552966128156,\n",
       " 0.33122145809538184,\n",
       " 0.3308387296149043,\n",
       " 0.3306874901754244,\n",
       " 0.3306401412945797,\n",
       " 0.3303505106726644,\n",
       " 0.3302092517254361,\n",
       " 0.3305311295336895,\n",
       " 0.33086810245253817,\n",
       " 0.3309333597500845,\n",
       " 0.33076767496249126,\n",
       " 0.3304977905722429]"
      ]
     },
     "execution_count": 53,
     "metadata": {},
     "output_type": "execute_result"
    }
   ],
   "source": [
    "results"
   ]
  },
  {
   "cell_type": "markdown",
   "metadata": {},
   "source": [
    "mobile net fog focal loss"
   ]
  },
  {
   "cell_type": "code",
   "execution_count": 82,
   "metadata": {},
   "outputs": [
    {
     "data": {
      "text/plain": [
       "[0.22358372536298143,\n",
       " 0.2554378937152351,\n",
       " 0.2908849125351911,\n",
       " 0.31681900210139613,\n",
       " 0.3314999751453472,\n",
       " 0.3428528100479516,\n",
       " 0.34810161882070145,\n",
       " 0.353552161114579,\n",
       " 0.3606744336539561,\n",
       " 0.36231737296149696,\n",
       " 0.3660556119117553,\n",
       " 0.3678984355220381,\n",
       " 0.3700758282218907,\n",
       " 0.3708945820467419,\n",
       " 0.3701942251889682,\n",
       " 0.3674957864532291,\n",
       " 0.36667851249253863,\n",
       " 0.3642780469244458,\n",
       " 0.36518179609963813,\n",
       " 0.36433573180413453,\n",
       " 0.3630993912712861,\n",
       " 0.36185141210886174,\n",
       " 0.36534408527223095,\n",
       " 0.36394573960456694,\n",
       " 0.363572100114482,\n",
       " 0.3639311640975214,\n",
       " 0.3646962867962156,\n",
       " 0.3644658339198602,\n",
       " 0.36073201140357175,\n",
       " 0.3582342494239001,\n",
       " 0.35822114739361166,\n",
       " 0.35860397910473746,\n",
       " 0.3586387705048107,\n",
       " 0.35831887906321314,\n",
       " 0.3590781583175151,\n",
       " 0.35836455034087206,\n",
       " 0.3576741011516172,\n",
       " 0.35749052511961094,\n",
       " 0.35714259919410235,\n",
       " 0.3572802633252643,\n",
       " 0.35623684368208763,\n",
       " 0.3564745705031071,\n",
       " 0.35534985944970177,\n",
       " 0.3552358250563789,\n",
       " 0.3547191774334377,\n",
       " 0.35369989733558743,\n",
       " 0.3545852596248126,\n",
       " 0.35423698855547375,\n",
       " 0.35363596558168287,\n",
       " 0.3533742045213066,\n",
       " 0.3525017464026983,\n",
       " 0.3523459181788779,\n",
       " 0.352008645652125,\n",
       " 0.35173981848991476,\n",
       " 0.3519633675970628,\n",
       " 0.35147078438931006,\n",
       " 0.3525803513050126,\n",
       " 0.3522030032902026,\n",
       " 0.35106938991732195,\n",
       " 0.3506063534183031,\n",
       " 0.35035719921320246,\n",
       " 0.3507991690501637,\n",
       " 0.3506614923014764,\n",
       " 0.35037298043340526,\n",
       " 0.35146705015530505,\n",
       " 0.35123384408079933,\n",
       " 0.35118074439600167,\n",
       " 0.3511368292564364,\n",
       " 0.35124825864533366,\n",
       " 0.35082498093534703,\n",
       " 0.3512239502444939,\n",
       " 0.35074683414409114,\n",
       " 0.35067119709137845,\n",
       " 0.3503500012916634,\n",
       " 0.3500961044257495,\n",
       " 0.35092740968531816,\n",
       " 0.35082692905559837,\n",
       " 0.35118886033212576,\n",
       " 0.3509550784213499,\n",
       " 0.35075388835312155,\n",
       " 0.3507737505401581]"
      ]
     },
     "execution_count": 82,
     "metadata": {},
     "output_type": "execute_result"
    }
   ],
   "source": [
    "results"
   ]
  },
  {
   "cell_type": "code",
   "execution_count": 23,
   "metadata": {},
   "outputs": [
    {
     "data": {
      "text/plain": [
       "[0.22358372536298143,\n",
       " 0.255571726563132,\n",
       " 0.2914731239787449,\n",
       " 0.3113094434490527,\n",
       " 0.33283440360079125,\n",
       " 0.35369100063772263,\n",
       " 0.3641508360883164,\n",
       " 0.3700525314756383,\n",
       " 0.3729152437984948,\n",
       " 0.37824277389494143,\n",
       " 0.3817205452910861,\n",
       " 0.3808261741288856,\n",
       " 0.38026887291535116,\n",
       " 0.3803320999285288,\n",
       " 0.382303938346562,\n",
       " 0.381119351974379,\n",
       " 0.37969153931733635,\n",
       " 0.3786326648214809,\n",
       " 0.3778919120743261,\n",
       " 0.37847382094493753,\n",
       " 0.37802265143763547,\n",
       " 0.37570393672083524,\n",
       " 0.37274304006638476,\n",
       " 0.3724332707601714,\n",
       " 0.37216082948194973,\n",
       " 0.3712055363023832,\n",
       " 0.3711365582656662,\n",
       " 0.3721236091509538,\n",
       " 0.3732502284662912,\n",
       " 0.37289356664342727,\n",
       " 0.3736549411532451,\n",
       " 0.3717178818137034,\n",
       " 0.37083275967656715,\n",
       " 0.37099226782068345,\n",
       " 0.3702662276638212,\n",
       " 0.3690057019964491,\n",
       " 0.368602983708998,\n",
       " 0.36749495994415904,\n",
       " 0.3662943702453683,\n",
       " 0.36594622688801204,\n",
       " 0.36641059571477613,\n",
       " 0.3660897404271282,\n",
       " 0.3652156336004677,\n",
       " 0.36632691927097555,\n",
       " 0.3658250573391955,\n",
       " 0.3657684070311713,\n",
       " 0.36627506354919426,\n",
       " 0.3658135477667465,\n",
       " 0.36581021426540583,\n",
       " 0.36522522638126065,\n",
       " 0.36502988427461797,\n",
       " 0.3646752901698081,\n",
       " 0.36449706522123254,\n",
       " 0.36474449842138185,\n",
       " 0.36403191939412444,\n",
       " 0.36411220760163365,\n",
       " 0.36472571787706176,\n",
       " 0.3649880868344142,\n",
       " 0.36499674942621246,\n",
       " 0.36472463285527734,\n",
       " 0.3642360409502066,\n",
       " 0.36436014980919273,\n",
       " 0.36414501071432087,\n",
       " 0.36371642668093523,\n",
       " 0.36303111493213336,\n",
       " 0.36339904890847285,\n",
       " 0.36408453712190486,\n",
       " 0.36368604848487623,\n",
       " 0.363575439069008,\n",
       " 0.3636344044929583,\n",
       " 0.36391239044902646,\n",
       " 0.36375071390696134,\n",
       " 0.3637083477676349,\n",
       " 0.3634556402050308,\n",
       " 0.3635591972326838,\n",
       " 0.3634251419791476,\n",
       " 0.363036034180858,\n",
       " 0.36317545219041114,\n",
       " 0.36318471512382583,\n",
       " 0.36316143239257564,\n",
       " 0.36271705206855703]"
      ]
     },
     "execution_count": 23,
     "metadata": {},
     "output_type": "execute_result"
    }
   ],
   "source": [
    "results"
   ]
  },
  {
   "cell_type": "markdown",
   "metadata": {},
   "source": [
    "mobile net rain"
   ]
  },
  {
   "cell_type": "code",
   "execution_count": 62,
   "metadata": {},
   "outputs": [
    {
     "data": {
      "text/plain": [
       "[0.19889463147238629,\n",
       " 0.21651021684522287,\n",
       " 0.2508395785717952,\n",
       " 0.2576400447078906,\n",
       " 0.264167524265594,\n",
       " 0.274134399540847,\n",
       " 0.2822033188825226,\n",
       " 0.28812741812777576,\n",
       " 0.2897983841260904,\n",
       " 0.2885543999230986,\n",
       " 0.29203099963403784,\n",
       " 0.2924041766751749,\n",
       " 0.29417467302586303,\n",
       " 0.2952592960671983,\n",
       " 0.2954826164622149,\n",
       " 0.29810419539860455,\n",
       " 0.2992247314254184,\n",
       " 0.2985998646483467,\n",
       " 0.29943306975343326,\n",
       " 0.2979808589448507,\n",
       " 0.2987282807460354,\n",
       " 0.2995347313861746,\n",
       " 0.29992399062935454,\n",
       " 0.30087075191790796,\n",
       " 0.30102693995378454,\n",
       " 0.30190488704728374,\n",
       " 0.3016234940442724,\n",
       " 0.3009109519966919,\n",
       " 0.30128438699999616,\n",
       " 0.3005464280577663,\n",
       " 0.3011602662689332,\n",
       " 0.30129735572589317,\n",
       " 0.30165517542269266,\n",
       " 0.3021153323937305,\n",
       " 0.3023503991744141,\n",
       " 0.30271059466806105,\n",
       " 0.3031066094673332,\n",
       " 0.3033501057073701,\n",
       " 0.30326111989639787,\n",
       " 0.30296139548726153,\n",
       " 0.30239755239792687,\n",
       " 0.30273218282410286,\n",
       " 0.3031471724120572,\n",
       " 0.30327617421887926,\n",
       " 0.3032268038047764,\n",
       " 0.30339220645889486,\n",
       " 0.3033593165262993,\n",
       " 0.3032196607134433,\n",
       " 0.3028109058382916,\n",
       " 0.30269855294591425,\n",
       " 0.3024953592484194,\n",
       " 0.30238881048699057,\n",
       " 0.3022231728552591,\n",
       " 0.30223598080894193,\n",
       " 0.30232443202382414,\n",
       " 0.3021589787749941,\n",
       " 0.30219971756012465,\n",
       " 0.30223074864687716,\n",
       " 0.3017710002245937,\n",
       " 0.30142940757772085,\n",
       " 0.3009972300019202,\n",
       " 0.30098318507723365,\n",
       " 0.3009455935288518,\n",
       " 0.3008971029986009,\n",
       " 0.3011355705905888,\n",
       " 0.30150956100316617,\n",
       " 0.30148722819426804,\n",
       " 0.3015996714736529,\n",
       " 0.3016597688745195,\n",
       " 0.301507710591909,\n",
       " 0.30144956659549405,\n",
       " 0.3013416507933203,\n",
       " 0.30142572001731366,\n",
       " 0.3012085802675588,\n",
       " 0.30122787154026964,\n",
       " 0.30114011560758835,\n",
       " 0.3009704865640104,\n",
       " 0.30105746981495496,\n",
       " 0.30106588899706244,\n",
       " 0.3008849185653516,\n",
       " 0.30054966272556927]"
      ]
     },
     "execution_count": 62,
     "metadata": {},
     "output_type": "execute_result"
    }
   ],
   "source": [
    "results"
   ]
  },
  {
   "cell_type": "markdown",
   "metadata": {},
   "source": [
    "mobile net fog"
   ]
  },
  {
   "cell_type": "code",
   "execution_count": 44,
   "metadata": {},
   "outputs": [
    {
     "data": {
      "text/plain": [
       "[0.17434194327232985,\n",
       " 0.19875614027008898,\n",
       " 0.22027968675018814,\n",
       " 0.23552427709382137,\n",
       " 0.26091461611500694,\n",
       " 0.274242899279018,\n",
       " 0.28257540392476893,\n",
       " 0.29179575332904195,\n",
       " 0.29563470285211413,\n",
       " 0.3033447708312181,\n",
       " 0.305427580446828,\n",
       " 0.306525147139888,\n",
       " 0.3089524333259205,\n",
       " 0.31137863991451886,\n",
       " 0.3081828228886667,\n",
       " 0.30725538143726144,\n",
       " 0.3018740900711873,\n",
       " 0.2991844511414681,\n",
       " 0.2964477382931025,\n",
       " 0.2944866649174941,\n",
       " 0.2951557327015818,\n",
       " 0.2986029245525537,\n",
       " 0.3000910934249031,\n",
       " 0.303096283112472,\n",
       " 0.305627756778891,\n",
       " 0.30757131196940024,\n",
       " 0.3068133638222854,\n",
       " 0.30639394982307167,\n",
       " 0.30620116002241954,\n",
       " 0.3057112688632948,\n",
       " 0.3054992595677206,\n",
       " 0.3072331706064141,\n",
       " 0.3061482287093166,\n",
       " 0.30624504622499427,\n",
       " 0.30496207963708494,\n",
       " 0.30457012529662175,\n",
       " 0.3045381290245386,\n",
       " 0.30455223896768086,\n",
       " 0.30625175149826245,\n",
       " 0.3063510233026869,\n",
       " 0.30507390944899015,\n",
       " 0.3038876015424751,\n",
       " 0.3046054057925276,\n",
       " 0.30444243865372833,\n",
       " 0.30413848686277495,\n",
       " 0.30398653103691337,\n",
       " 0.3040086944670246,\n",
       " 0.30398472091934114,\n",
       " 0.3045936371762498,\n",
       " 0.3043571794918443,\n",
       " 0.3038696352906111,\n",
       " 0.3047808311619677,\n",
       " 0.3044784110361607,\n",
       " 0.30452432075748187,\n",
       " 0.3046711285883801,\n",
       " 0.3048562337744581,\n",
       " 0.30495633915963855,\n",
       " 0.30526983462375445,\n",
       " 0.3045769452557568,\n",
       " 0.30444122878533525,\n",
       " 0.30403156164576756,\n",
       " 0.30387508744563335,\n",
       " 0.30372928409728467,\n",
       " 0.30254413645890915,\n",
       " 0.30271370769245276,\n",
       " 0.3031320788078877,\n",
       " 0.3028018459720587,\n",
       " 0.3029835654134815,\n",
       " 0.3028287610948267,\n",
       " 0.3029955083534464,\n",
       " 0.3031295484599505,\n",
       " 0.303513322638723,\n",
       " 0.3035910572381509,\n",
       " 0.3043893993519325,\n",
       " 0.30366998636006914,\n",
       " 0.30316999962190516,\n",
       " 0.3035190095944074,\n",
       " 0.3031650502945464,\n",
       " 0.30308765960362855,\n",
       " 0.3029176050023647,\n",
       " 0.30255303664196154]"
      ]
     },
     "execution_count": 44,
     "metadata": {},
     "output_type": "execute_result"
    }
   ],
   "source": [
    "results"
   ]
  },
  {
   "cell_type": "markdown",
   "metadata": {},
   "source": [
    "acdc rain relay (%2)"
   ]
  },
  {
   "cell_type": "code",
   "execution_count": null,
   "metadata": {},
   "outputs": [],
   "source": [
    "results"
   ]
  },
  {
   "cell_type": "markdown",
   "metadata": {},
   "source": [
    "acdc fog relay (%2)"
   ]
  },
  {
   "cell_type": "code",
   "execution_count": 19,
   "metadata": {},
   "outputs": [
    {
     "data": {
      "text/plain": [
       "[0.36798932500582315,\n",
       " 0.42175101159644496,\n",
       " 0.42980128996853706,\n",
       " 0.4527815553858991,\n",
       " 0.4521972788221678,\n",
       " 0.47603138153803637,\n",
       " 0.4684861102983221,\n",
       " 0.4855632830589292,\n",
       " 0.48504826923904487,\n",
       " 0.49427448105160204,\n",
       " 0.48786190855375694,\n",
       " 0.4968522391924309,\n",
       " 0.49409638234148356,\n",
       " 0.503034675726308,\n",
       " 0.4983076031943689,\n",
       " 0.5047989386257623,\n",
       " 0.5005067451989129,\n",
       " 0.5057988832621004,\n",
       " 0.5012403702952287,\n",
       " 0.5069874635309976,\n",
       " 0.503887094959746,\n",
       " 0.5055623833989252,\n",
       " 0.5028739118408166,\n",
       " 0.506682264705918,\n",
       " 0.5036207216477994,\n",
       " 0.5066999727144587,\n",
       " 0.5066415335893367,\n",
       " 0.5142595806484345,\n",
       " 0.5111760866402696,\n",
       " 0.51375612304722,\n",
       " 0.5117595113350323,\n",
       " 0.5134768915897646,\n",
       " 0.5121353855208148,\n",
       " 0.5161901968192635,\n",
       " 0.514851676602833,\n",
       " 0.5165556643026941,\n",
       " 0.5135102200460442,\n",
       " 0.5147392381172602,\n",
       " 0.5151665971570331,\n",
       " 0.5186788683711986,\n",
       " 0.5171603589575495,\n",
       " 0.5190948984096644,\n",
       " 0.5168706480930172,\n",
       " 0.5187921271471757,\n",
       " 0.5177091599234069,\n",
       " 0.5196302998638067,\n",
       " 0.519484710194408,\n",
       " 0.5213878681775499,\n",
       " 0.5199100781256938,\n",
       " 0.5207773624370776,\n",
       " 0.5194468512784202,\n",
       " 0.5204446113531304,\n",
       " 0.5193628037966034,\n",
       " 0.5200505987997303,\n",
       " 0.5196407804836227,\n",
       " 0.520760801561147,\n",
       " 0.5201899756794317,\n",
       " 0.5212520697225985,\n",
       " 0.5203156063285687,\n",
       " 0.5214030216448747,\n",
       " 0.5204910986259084,\n",
       " 0.5215626074259783,\n",
       " 0.5203562994856871,\n",
       " 0.5208970381436916,\n",
       " 0.5201702710894816,\n",
       " 0.52074795766229,\n",
       " 0.5202371902014522,\n",
       " 0.5212001634244281,\n",
       " 0.5207699684933128,\n",
       " 0.5215517346259384,\n",
       " 0.5210861051336816,\n",
       " 0.5215826254472552,\n",
       " 0.5209631574384117,\n",
       " 0.5214220119538482,\n",
       " 0.5211385429376412,\n",
       " 0.5223785630664487,\n",
       " 0.5218923861245381,\n",
       " 0.5225735510523585,\n",
       " 0.5224310844777079,\n",
       " 0.5228088678008745,\n",
       " 0.5220539465714041]"
      ]
     },
     "execution_count": 19,
     "metadata": {},
     "output_type": "execute_result"
    }
   ],
   "source": [
    "results"
   ]
  },
  {
   "cell_type": "markdown",
   "metadata": {},
   "source": [
    "cs fog (severity 2.0)"
   ]
  },
  {
   "cell_type": "code",
   "execution_count": 24,
   "metadata": {},
   "outputs": [
    {
     "data": {
      "text/plain": [
       "[0.36798932500582315,\n",
       " 0.5416354635839227,\n",
       " 0.559191534051159,\n",
       " 0.573505867426431,\n",
       " 0.5829954125529643,\n",
       " 0.5887437561704387,\n",
       " 0.592890826597204,\n",
       " 0.5970800279199096,\n",
       " 0.59994018561926,\n",
       " 0.6053699024669851,\n",
       " 0.6046294702076834,\n",
       " 0.6030094398390746,\n",
       " 0.6005188115446982,\n",
       " 0.6004453397369978,\n",
       " 0.6025324282199972,\n",
       " 0.6013771068202032,\n",
       " 0.6014274785706503,\n",
       " 0.5999247915612128,\n",
       " 0.5989491299344195,\n",
       " 0.5975427385852476,\n",
       " 0.5960945672028745,\n",
       " 0.5966385993993931,\n",
       " 0.5959074901959176,\n",
       " 0.5955064018991558,\n",
       " 0.5958157487977414,\n",
       " 0.5949714987457224,\n",
       " 0.5949830292723327,\n",
       " 0.5950359186925579,\n",
       " 0.5964464092053916,\n",
       " 0.5971843791452972,\n",
       " 0.5968484775895767,\n",
       " 0.5965717356406796,\n",
       " 0.5962224664172995,\n",
       " 0.596163324252337,\n",
       " 0.5959829492899796,\n",
       " 0.5966418214896554,\n",
       " 0.5964248280805307,\n",
       " 0.5965013374524378,\n",
       " 0.5958742404262725,\n",
       " 0.5971810941864131,\n",
       " 0.5966294016202529,\n",
       " 0.5966810641683132,\n",
       " 0.5966006955285084,\n",
       " 0.5971883063689594,\n",
       " 0.5973227869117159,\n",
       " 0.5971715954674973,\n",
       " 0.5972592780084894,\n",
       " 0.5970346587776236,\n",
       " 0.5966116584092866,\n",
       " 0.5966858091543366,\n",
       " 0.5966401061818053,\n",
       " 0.5967617798126301,\n",
       " 0.5969508086847896,\n",
       " 0.5971013080867611,\n",
       " 0.5974986998529698,\n",
       " 0.5972813112513343,\n",
       " 0.5970270496317464,\n",
       " 0.5967060830934244,\n",
       " 0.5968432930963333,\n",
       " 0.5969158883797437,\n",
       " 0.5967269433954827,\n",
       " 0.5969054677415173,\n",
       " 0.5972408849159266,\n",
       " 0.5968507456371265,\n",
       " 0.5967320700808707,\n",
       " 0.5967272268496253,\n",
       " 0.5970836537441675,\n",
       " 0.5971937589496906,\n",
       " 0.5972133777259794,\n",
       " 0.5970238961737219,\n",
       " 0.5970246319707522,\n",
       " 0.5968490641453232,\n",
       " 0.5966684533664802,\n",
       " 0.5968742690161738,\n",
       " 0.596986285655065,\n",
       " 0.5968775130093423,\n",
       " 0.5967039467537495,\n",
       " 0.5965623274134132,\n",
       " 0.5966220162983218,\n",
       " 0.5963932649535871,\n",
       " 0.5963542298552421]"
      ]
     },
     "execution_count": 24,
     "metadata": {},
     "output_type": "execute_result"
    }
   ],
   "source": [
    "results"
   ]
  },
  {
   "cell_type": "markdown",
   "metadata": {},
   "source": [
    "acdc fog backbone only"
   ]
  },
  {
   "cell_type": "code",
   "execution_count": 21,
   "metadata": {},
   "outputs": [
    {
     "data": {
      "text/plain": [
       "[0.36798932500582315,\n",
       " 0.41914032757073477,\n",
       " 0.4574474262739763,\n",
       " 0.48915433717768986,\n",
       " 0.5033067117402376,\n",
       " 0.5189854546080648,\n",
       " 0.5306392277187078,\n",
       " 0.5398955466016343,\n",
       " 0.5475201337600687,\n",
       " 0.554330771676177,\n",
       " 0.5559993295701005,\n",
       " 0.5627267321394144,\n",
       " 0.5693741933691738,\n",
       " 0.5703775664668155,\n",
       " 0.5691246769560665,\n",
       " 0.5708849148781715,\n",
       " 0.5668200258173886,\n",
       " 0.5653332541726831,\n",
       " 0.5691173796958872,\n",
       " 0.56540002181323,\n",
       " 0.5670885122587057,\n",
       " 0.5656262142293591,\n",
       " 0.5671485207468363,\n",
       " 0.5669904432474003,\n",
       " 0.568295570202955,\n",
       " 0.5683429981011372,\n",
       " 0.5681456191724511,\n",
       " 0.5689638114603908,\n",
       " 0.5705298931033179,\n",
       " 0.5699451167046589,\n",
       " 0.5708692423093122,\n",
       " 0.5687034624702756,\n",
       " 0.5689358302233888,\n",
       " 0.5696852364973083,\n",
       " 0.5692265730459021,\n",
       " 0.5670312131465006,\n",
       " 0.5680465730328875,\n",
       " 0.5675230959396768,\n",
       " 0.5664826071988024,\n",
       " 0.5664024895029479,\n",
       " 0.5656748765512126,\n",
       " 0.5656969333237915,\n",
       " 0.5659508120690034,\n",
       " 0.5656099061971119,\n",
       " 0.5646737091715658,\n",
       " 0.5656689958347397,\n",
       " 0.5655470384059764,\n",
       " 0.5667820880742901,\n",
       " 0.5674717667331003,\n",
       " 0.5678265383447215,\n",
       " 0.567783665186048,\n",
       " 0.5671855591645387,\n",
       " 0.5668268151318344,\n",
       " 0.5667598135080196,\n",
       " 0.5649898953937003,\n",
       " 0.5647816493114934,\n",
       " 0.5653295162017175,\n",
       " 0.5655057619697058,\n",
       " 0.5645822996243437,\n",
       " 0.563617606057733,\n",
       " 0.5640541729312836,\n",
       " 0.5644818880641581,\n",
       " 0.5637387193953877,\n",
       " 0.5635263226700199,\n",
       " 0.5646276347426294,\n",
       " 0.5652773857047341,\n",
       " 0.565147791260459,\n",
       " 0.5651093828050759,\n",
       " 0.565170718881983,\n",
       " 0.5649951958003918,\n",
       " 0.5646843530810969,\n",
       " 0.5644894336544821,\n",
       " 0.5640908965375215,\n",
       " 0.5639097694403388,\n",
       " 0.563661492380557,\n",
       " 0.5633083240658646,\n",
       " 0.5632873430800284,\n",
       " 0.5628066302178084,\n",
       " 0.5627494898810279,\n",
       " 0.5626380923352032,\n",
       " 0.5623281776075726]"
      ]
     },
     "execution_count": 21,
     "metadata": {},
     "output_type": "execute_result"
    }
   ],
   "source": [
    "results"
   ]
  },
  {
   "cell_type": "markdown",
   "metadata": {},
   "source": [
    "acdc relay of infos"
   ]
  },
  {
   "cell_type": "code",
   "execution_count": 20,
   "metadata": {},
   "outputs": [
    {
     "data": {
      "text/plain": [
       "[0.36798932500582315,\n",
       " 0.42423648101101696,\n",
       " 0.4566834948701865,\n",
       " 0.476433050423001,\n",
       " 0.48831899071338486,\n",
       " 0.5003045188499111,\n",
       " 0.5099149155028597,\n",
       " 0.5227463546051669,\n",
       " 0.5240482427412558,\n",
       " 0.5256679741266012,\n",
       " 0.5260328194171852,\n",
       " 0.5265954481305231,\n",
       " 0.5265932825224718,\n",
       " 0.5258231825992865,\n",
       " 0.5313404340783892,\n",
       " 0.5323224355087429,\n",
       " 0.535480558862012,\n",
       " 0.537657487834587,\n",
       " 0.5368655143788991,\n",
       " 0.5371414830786342,\n",
       " 0.5387499227009815,\n",
       " 0.537342182289139,\n",
       " 0.5381955104994925,\n",
       " 0.5347597497255759,\n",
       " 0.5376210177166338,\n",
       " 0.5407426787900148,\n",
       " 0.5397944807895804,\n",
       " 0.5364625631045566,\n",
       " 0.5368368586080189,\n",
       " 0.5343904958054317,\n",
       " 0.535309728398094,\n",
       " 0.5343235815724731,\n",
       " 0.5329274499267891,\n",
       " 0.5336553885437973,\n",
       " 0.5351172345527367,\n",
       " 0.5342265427144944,\n",
       " 0.5351934012790655,\n",
       " 0.53404466511616,\n",
       " 0.5325797670389772,\n",
       " 0.5313753008419763,\n",
       " 0.5330545850611834,\n",
       " 0.533190355371844,\n",
       " 0.5314543009852649,\n",
       " 0.5310752698754355,\n",
       " 0.5304484159934936,\n",
       " 0.5309198022020807,\n",
       " 0.5317608967124454,\n",
       " 0.5323545662399742,\n",
       " 0.5320538864829387,\n",
       " 0.5310853997342289,\n",
       " 0.5310359640294966,\n",
       " 0.5307217784582714,\n",
       " 0.5295649329155045,\n",
       " 0.5297583867329475,\n",
       " 0.5288594143949527,\n",
       " 0.5279876719080896,\n",
       " 0.5289796332854715,\n",
       " 0.5289646864365937,\n",
       " 0.5265930028741685,\n",
       " 0.5253131263739047,\n",
       " 0.525076447810645,\n",
       " 0.524306803555386,\n",
       " 0.5244868575900185,\n",
       " 0.5253826167923857,\n",
       " 0.5257632344926011,\n",
       " 0.5265453514253349,\n",
       " 0.5256760031988725,\n",
       " 0.5256933226258191,\n",
       " 0.5263720934097724,\n",
       " 0.5272559510794662,\n",
       " 0.5274702085581368,\n",
       " 0.5277149470573604,\n",
       " 0.5271678712858711,\n",
       " 0.5279730659335083,\n",
       " 0.5272749944468249,\n",
       " 0.5281186206524204,\n",
       " 0.5287277040127588,\n",
       " 0.5281828392596732,\n",
       " 0.5273233074643758,\n",
       " 0.52796494533696,\n",
       " 0.5278368144352882]"
      ]
     },
     "execution_count": 20,
     "metadata": {},
     "output_type": "execute_result"
    }
   ],
   "source": [
    "results"
   ]
  },
  {
   "cell_type": "markdown",
   "metadata": {},
   "source": [
    "acdc fog (decay 0.98, 0.05)"
   ]
  },
  {
   "cell_type": "code",
   "execution_count": 18,
   "metadata": {},
   "outputs": [
    {
     "data": {
      "text/plain": [
       "[0.36798932500582315,\n",
       " 0.4421834133909748,\n",
       " 0.4742474500448582,\n",
       " 0.4881774414244721,\n",
       " 0.5114598505715965,\n",
       " 0.5150079864923706,\n",
       " 0.5080443291881394,\n",
       " 0.5185298488085429,\n",
       " 0.5153481519781087,\n",
       " 0.5174066190768689,\n",
       " 0.4983325664731297,\n",
       " 0.49343430957057405,\n",
       " 0.4971502443768872,\n",
       " 0.4801830834623283,\n",
       " 0.47616924324319637,\n",
       " 0.4716220964016205,\n",
       " 0.4701647322814988,\n",
       " 0.4714435556803509,\n",
       " 0.49382638738159584,\n",
       " 0.5024852649142807,\n",
       " 0.5055095523593013,\n",
       " 0.49393521371475463,\n",
       " 0.4840776824323788,\n",
       " 0.5000864461921865,\n",
       " 0.504238906445544,\n",
       " 0.4904163616501433,\n",
       " 0.5008252936161682,\n",
       " 0.48356077173058587,\n",
       " 0.5013181041387371,\n",
       " 0.511219412062763,\n",
       " 0.511710774841411,\n",
       " 0.4960388590455982,\n",
       " 0.4893223670680278,\n",
       " 0.5030364510681608,\n",
       " 0.5260128134833155,\n",
       " 0.5349531046190115,\n",
       " 0.527223248457117,\n",
       " 0.5240153531294253,\n",
       " 0.5105462406107805,\n",
       " 0.4980353219388417,\n",
       " 0.513260476464213,\n",
       " 0.4982613103398453,\n",
       " 0.4936298762000298,\n",
       " 0.49621276292223304,\n",
       " 0.5059584172860403,\n",
       " 0.5129808131708992,\n",
       " 0.4995284282269672,\n",
       " 0.5080632355832609,\n",
       " 0.5179981499214552,\n",
       " 0.5245588524933612,\n",
       " 0.5105380721564221,\n",
       " 0.5048932757715804,\n",
       " 0.49520841006557614,\n",
       " 0.4931587108089074,\n",
       " 0.5009336303446468,\n",
       " 0.5014728922011641,\n",
       " 0.49393211254917846,\n",
       " 0.5093487605339126,\n",
       " 0.5228503877562576,\n",
       " 0.5109354543291961,\n",
       " 0.5156239656742281,\n",
       " 0.513052398895883,\n",
       " 0.5035434345300065,\n",
       " 0.5146326713312676,\n",
       " 0.5210681264078787,\n",
       " 0.5148242544259884,\n",
       " 0.5201317728642418,\n",
       " 0.5204271398778816,\n",
       " 0.5130381601530691,\n",
       " 0.5219123571674098,\n",
       " 0.5205713992796558,\n",
       " 0.5013289534393514,\n",
       " 0.49465758279894567,\n",
       " 0.4877598265858069,\n",
       " 0.4835261237686453,\n",
       " 0.49357592744788015,\n",
       " 0.49388266654608554,\n",
       " 0.503539500482769,\n",
       " 0.5014148764552429,\n",
       " 0.5122920770380365,\n",
       " 0.5188887163835498]"
      ]
     },
     "execution_count": 18,
     "metadata": {},
     "output_type": "execute_result"
    }
   ],
   "source": [
    "results"
   ]
  },
  {
   "cell_type": "markdown",
   "metadata": {},
   "source": [
    "acdc fog (decay 0.98)"
   ]
  },
  {
   "cell_type": "code",
   "execution_count": 18,
   "metadata": {},
   "outputs": [
    {
     "data": {
      "text/plain": [
       "[0.36798932500582315,\n",
       " 0.40717610207373617,\n",
       " 0.4507858744254784,\n",
       " 0.46641329064535175,\n",
       " 0.4780895629927954,\n",
       " 0.4918317352753814,\n",
       " 0.4941078615623116,\n",
       " 0.49846453299470556,\n",
       " 0.49755935186555544,\n",
       " 0.5035458454549171,\n",
       " 0.5108850320252422,\n",
       " 0.5077293942912185,\n",
       " 0.5041176416806316,\n",
       " 0.5197442667020719,\n",
       " 0.5099394801926731,\n",
       " 0.5123784290189729,\n",
       " 0.5165257282050798,\n",
       " 0.5274441725030211,\n",
       " 0.5224192143916455,\n",
       " 0.5323705428066963,\n",
       " 0.5293202407322368,\n",
       " 0.5420963820080467,\n",
       " 0.5502806872685869,\n",
       " 0.5450541058235074,\n",
       " 0.533335779432762,\n",
       " 0.5413462714590274,\n",
       " 0.5430305676371054,\n",
       " 0.5340033176288432,\n",
       " 0.5215096889222101,\n",
       " 0.5130689246369534,\n",
       " 0.5102883255616826,\n",
       " 0.509323369574284,\n",
       " 0.5041110496794992,\n",
       " 0.5148075222458516,\n",
       " 0.5234591906023418,\n",
       " 0.5163737246475124,\n",
       " 0.5114866021304482,\n",
       " 0.5118049873156668,\n",
       " 0.5080802312815277,\n",
       " 0.5025887721280288,\n",
       " 0.49725989692037326,\n",
       " 0.5011691856624704,\n",
       " 0.5140604823698292,\n",
       " 0.5103404219592828,\n",
       " 0.5073347989019362,\n",
       " 0.5023424511747007,\n",
       " 0.5124797536096534,\n",
       " 0.5093120561150289,\n",
       " 0.5071049949551582,\n",
       " 0.5092574910424981,\n",
       " 0.5109431010083779,\n",
       " 0.5138890577114774,\n",
       " 0.5172947753311276,\n",
       " 0.5106920877613286,\n",
       " 0.5134459618746819,\n",
       " 0.5128134135834131,\n",
       " 0.5119216731689872,\n",
       " 0.5144495045920072,\n",
       " 0.5126588724047639,\n",
       " 0.5104149306108696,\n",
       " 0.5096557993680292,\n",
       " 0.5057484518239838,\n",
       " 0.510090826959769,\n",
       " 0.5130211578847573,\n",
       " 0.5089646181692334,\n",
       " 0.5072091964537797,\n",
       " 0.5103242754529692,\n",
       " 0.5138056940860151,\n",
       " 0.5159738704543568,\n",
       " 0.513503345019076,\n",
       " 0.5129178998558112,\n",
       " 0.5120029410427355,\n",
       " 0.5088600552502421,\n",
       " 0.5086396306543242,\n",
       " 0.5056778153606304,\n",
       " 0.5123289663673393,\n",
       " 0.5152252308100606,\n",
       " 0.5192870343532799,\n",
       " 0.5190378774779004,\n",
       " 0.5156330532265025,\n",
       " 0.5204330561440036]"
      ]
     },
     "execution_count": 18,
     "metadata": {},
     "output_type": "execute_result"
    }
   ],
   "source": [
    "results"
   ]
  },
  {
   "cell_type": "markdown",
   "metadata": {},
   "source": [
    "acdc rain (decay 0.98)"
   ]
  },
  {
   "cell_type": "code",
   "execution_count": 18,
   "metadata": {},
   "outputs": [
    {
     "data": {
      "text/plain": [
       "[0.3139140494860081,\n",
       " 0.34568946683885277,\n",
       " 0.38190570617992203,\n",
       " 0.4126439353281127,\n",
       " 0.4314131286463451,\n",
       " 0.4413925636372108,\n",
       " 0.447568301578771,\n",
       " 0.454295057175927,\n",
       " 0.4602082845808848,\n",
       " 0.4643007428738651,\n",
       " 0.4675724739624481,\n",
       " 0.4708699444896636,\n",
       " 0.4703865774374794,\n",
       " 0.4726931293641532,\n",
       " 0.473793743421719,\n",
       " 0.47214596358068456,\n",
       " 0.47303502188599156,\n",
       " 0.47224328817731637,\n",
       " 0.468389018296039,\n",
       " 0.46556872663531873,\n",
       " 0.46387469587129165,\n",
       " 0.4600098954941434,\n",
       " 0.46131573126122677,\n",
       " 0.46120968556222514,\n",
       " 0.45789016829955753,\n",
       " 0.45719056297353977,\n",
       " 0.45432074438430475,\n",
       " 0.45781262123887845,\n",
       " 0.45967625363415066,\n",
       " 0.4633673235697847,\n",
       " 0.4605851264339449,\n",
       " 0.4638804350752313,\n",
       " 0.4663520304892172,\n",
       " 0.46342079926918833,\n",
       " 0.4586686730796299,\n",
       " 0.4625095445861178,\n",
       " 0.46486677031724627,\n",
       " 0.4658654175495269,\n",
       " 0.46837099812767724,\n",
       " 0.4679518430591361,\n",
       " 0.46844946483822997,\n",
       " 0.4710953650350507,\n",
       " 0.4715962419328945,\n",
       " 0.4695186271784317,\n",
       " 0.46656398620693484,\n",
       " 0.46414079487517756,\n",
       " 0.46231889427048595,\n",
       " 0.4654890260305627,\n",
       " 0.46672563288599855,\n",
       " 0.46796859578389227,\n",
       " 0.47004980740981944,\n",
       " 0.4667994504064823,\n",
       " 0.4651658607230465,\n",
       " 0.4661679106370695,\n",
       " 0.46723100345065904,\n",
       " 0.46879279268777113,\n",
       " 0.4683143847471292,\n",
       " 0.4685943658102747,\n",
       " 0.4689160613748255,\n",
       " 0.46548491320513274,\n",
       " 0.46627682658824104,\n",
       " 0.4675633327105641,\n",
       " 0.4659451008508918,\n",
       " 0.4678529347587872,\n",
       " 0.4696230990623136,\n",
       " 0.46930776068773666,\n",
       " 0.4696942753950839,\n",
       " 0.46715896615095664,\n",
       " 0.46867248847920484,\n",
       " 0.4701524901692048,\n",
       " 0.4713599949790368,\n",
       " 0.4730590558386871,\n",
       " 0.4729414365409361,\n",
       " 0.47368741221952154,\n",
       " 0.4730631008176234,\n",
       " 0.47358786915072154,\n",
       " 0.4742997142984711,\n",
       " 0.4733816356124912,\n",
       " 0.47276678852133547,\n",
       " 0.47283085965937255,\n",
       " 0.47356852175440034]"
      ]
     },
     "execution_count": 18,
     "metadata": {},
     "output_type": "execute_result"
    }
   ],
   "source": [
    "results"
   ]
  },
  {
   "cell_type": "markdown",
   "metadata": {},
   "source": [
    "acdc rain (original params)"
   ]
  },
  {
   "cell_type": "code",
   "execution_count": 36,
   "metadata": {},
   "outputs": [
    {
     "data": {
      "text/plain": [
       "[0.3139140494860081,\n",
       " 0.34889566499909924,\n",
       " 0.3764661863357306,\n",
       " 0.4019331195670249,\n",
       " 0.4212200848652106,\n",
       " 0.4348649265445312,\n",
       " 0.43751349168444725,\n",
       " 0.4432293794941365,\n",
       " 0.4485563657849249,\n",
       " 0.46556809010959743,\n",
       " 0.4686729376202257,\n",
       " 0.4722418948210731,\n",
       " 0.47696451296334147,\n",
       " 0.4783651734679201,\n",
       " 0.4777288174820573,\n",
       " 0.4817410052864711,\n",
       " 0.4812193744705295,\n",
       " 0.483189611881795,\n",
       " 0.48382494257456454,\n",
       " 0.4839389225448034,\n",
       " 0.48271573651510485,\n",
       " 0.4834489907986848,\n",
       " 0.48238881565153824,\n",
       " 0.481422106734752,\n",
       " 0.4813458926803285,\n",
       " 0.4814948940074545,\n",
       " 0.48081367716570816,\n",
       " 0.48124574846450513,\n",
       " 0.4821754379577119,\n",
       " 0.4827176430722984,\n",
       " 0.48207816496084754,\n",
       " 0.4829540783375787,\n",
       " 0.48207567423736997,\n",
       " 0.4814966142036976,\n",
       " 0.4814479298072758,\n",
       " 0.4806267985829676,\n",
       " 0.4808294254788308,\n",
       " 0.481070656288585,\n",
       " 0.48165427918748877,\n",
       " 0.48142800655945833,\n",
       " 0.4816304854425232,\n",
       " 0.48053532113888037,\n",
       " 0.48097458088712325,\n",
       " 0.4815629193908624,\n",
       " 0.48085054930653826,\n",
       " 0.48128578573452674,\n",
       " 0.4812935865801177,\n",
       " 0.4808234600349833,\n",
       " 0.48013040043818794,\n",
       " 0.48028604715864676,\n",
       " 0.4800078611414669,\n",
       " 0.4797633114234742,\n",
       " 0.48002577814700426,\n",
       " 0.47969184607986987,\n",
       " 0.47982119058599604,\n",
       " 0.4799862989957854,\n",
       " 0.4804232480639907,\n",
       " 0.48032173435221626,\n",
       " 0.4803414835947196,\n",
       " 0.4802092267695439,\n",
       " 0.480366444629438,\n",
       " 0.4803433033144249,\n",
       " 0.4802696165013936,\n",
       " 0.48047649949126764,\n",
       " 0.4808706264602295,\n",
       " 0.4805024511897025,\n",
       " 0.4803749269837801,\n",
       " 0.4802820136973435,\n",
       " 0.48028924931185313,\n",
       " 0.4804073324371077,\n",
       " 0.4803672222777466,\n",
       " 0.4799254239156829,\n",
       " 0.47936938315891303,\n",
       " 0.479250169079376,\n",
       " 0.47921439143878447,\n",
       " 0.4793691118352932,\n",
       " 0.47899706090837174,\n",
       " 0.47916161507610117,\n",
       " 0.47918411265758126,\n",
       " 0.4790319829638463,\n",
       " 0.47848637182418874]"
      ]
     },
     "execution_count": 36,
     "metadata": {},
     "output_type": "execute_result"
    }
   ],
   "source": [
    "results"
   ]
  },
  {
   "cell_type": "markdown",
   "metadata": {},
   "source": [
    "acdc fog (now with original params)"
   ]
  },
  {
   "cell_type": "code",
   "execution_count": 19,
   "metadata": {},
   "outputs": [
    {
     "data": {
      "text/plain": [
       "[0.36798932500582315,\n",
       " 0.4055044220083661,\n",
       " 0.4493491772856589,\n",
       " 0.4664402782402463,\n",
       " 0.4904630391682496,\n",
       " 0.49670478378691607,\n",
       " 0.5136583846740667,\n",
       " 0.524077107335853,\n",
       " 0.5286650043323854,\n",
       " 0.5280608570835604,\n",
       " 0.5341665049820777,\n",
       " 0.5414005666410135,\n",
       " 0.542037106369829,\n",
       " 0.5447008920902299,\n",
       " 0.5449278044091634,\n",
       " 0.5452730868245371,\n",
       " 0.5434218199739052,\n",
       " 0.5434580460815809,\n",
       " 0.5415663018789199,\n",
       " 0.5380891599484968,\n",
       " 0.541232801964672,\n",
       " 0.5384162563344244,\n",
       " 0.5400262073893194,\n",
       " 0.5425302452306889,\n",
       " 0.5443046796682809,\n",
       " 0.5411493920034128,\n",
       " 0.5418375418488732,\n",
       " 0.5384438528146772,\n",
       " 0.5377587937506008,\n",
       " 0.5387901102040454,\n",
       " 0.5382015267757371,\n",
       " 0.5356578337402966,\n",
       " 0.5328691851500917,\n",
       " 0.5331621235336695,\n",
       " 0.5353901098217955,\n",
       " 0.5358803948785282,\n",
       " 0.5356235929432864,\n",
       " 0.533690755492378,\n",
       " 0.5335263357633785,\n",
       " 0.5331728345599857,\n",
       " 0.5348178075121912,\n",
       " 0.533377495082263,\n",
       " 0.535868778008546,\n",
       " 0.5370063454148376,\n",
       " 0.5379418037259064,\n",
       " 0.5364673430121791,\n",
       " 0.5354086783780613,\n",
       " 0.5370422707020851,\n",
       " 0.5370892989178782,\n",
       " 0.5381117565646462,\n",
       " 0.5367705661911959,\n",
       " 0.5361823149197193,\n",
       " 0.5355698223174709,\n",
       " 0.5351726123476812,\n",
       " 0.5348509181113382,\n",
       " 0.5354890179271489,\n",
       " 0.5351527558574661,\n",
       " 0.5344552454651182,\n",
       " 0.5333642681110163,\n",
       " 0.5326246742735525,\n",
       " 0.5317685285282119,\n",
       " 0.5310466038335807,\n",
       " 0.5298747481131546,\n",
       " 0.5309016792176159,\n",
       " 0.530339270095074,\n",
       " 0.5299212399301506,\n",
       " 0.5291471269436356,\n",
       " 0.5275059285735161,\n",
       " 0.5287474898524814,\n",
       " 0.5281466641795797,\n",
       " 0.5290961778473416,\n",
       " 0.5289313259536975,\n",
       " 0.5284081074570338,\n",
       " 0.5282046369118848,\n",
       " 0.5289482064896806,\n",
       " 0.5281863056293996,\n",
       " 0.5281612182153069,\n",
       " 0.5286390014850114,\n",
       " 0.5287284918168847,\n",
       " 0.5290836370084123,\n",
       " 0.52983122829288]"
      ]
     },
     "execution_count": 19,
     "metadata": {},
     "output_type": "execute_result"
    }
   ],
   "source": [
    "results"
   ]
  },
  {
   "cell_type": "markdown",
   "metadata": {},
   "source": [
    "acdc rain (adaptation on train set)"
   ]
  },
  {
   "cell_type": "code",
   "execution_count": 19,
   "metadata": {},
   "outputs": [
    {
     "data": {
      "text/plain": [
       "[0.34992054570749864,\n",
       " 0.3825789910903077,\n",
       " 0.40141714733979444,\n",
       " 0.41304840527264386,\n",
       " 0.4276511925792971,\n",
       " 0.4333550653181568,\n",
       " 0.4425395845121709,\n",
       " 0.44947619860547827,\n",
       " 0.455074553651247,\n",
       " 0.4609184242817854,\n",
       " 0.4704279287831044,\n",
       " 0.47240981301929547,\n",
       " 0.47277587680977523,\n",
       " 0.4745405106590032,\n",
       " 0.47518554204984315,\n",
       " 0.4764246434586073,\n",
       " 0.4810529727318013,\n",
       " 0.4788680742678728,\n",
       " 0.4812041827235574,\n",
       " 0.482694139584899,\n",
       " 0.482262496266636,\n",
       " 0.4836030996193864,\n",
       " 0.4830634050648571,\n",
       " 0.4831182310477537,\n",
       " 0.48442360168111626,\n",
       " 0.48344305948379945,\n",
       " 0.48269482897293187,\n",
       " 0.4834138090337085,\n",
       " 0.4845371630564952,\n",
       " 0.48327098459438006,\n",
       " 0.4848445370030975,\n",
       " 0.4848251614406961,\n",
       " 0.4838683148687702,\n",
       " 0.4841974054977359,\n",
       " 0.4838203304256838,\n",
       " 0.4839738373073285,\n",
       " 0.48447314892783844,\n",
       " 0.4838333043149312,\n",
       " 0.4835020077009312,\n",
       " 0.48259026631459423,\n",
       " 0.48310078169077697,\n",
       " 0.4831369865610659,\n",
       " 0.48276127439687855,\n",
       " 0.48264594919948556,\n",
       " 0.483243094007337,\n",
       " 0.48304483157354383,\n",
       " 0.4832554499326722,\n",
       " 0.4834127151240257,\n",
       " 0.48272489416234315,\n",
       " 0.48286636889405576,\n",
       " 0.4831654475668502,\n",
       " 0.4833445020867881,\n",
       " 0.4827817238810771,\n",
       " 0.4823954718888923,\n",
       " 0.4829249060201709,\n",
       " 0.4826367673703908,\n",
       " 0.48230396443277795,\n",
       " 0.48254027655834114,\n",
       " 0.4823366145108324,\n",
       " 0.4824522071597118,\n",
       " 0.48117165031411496,\n",
       " 0.48077654569229233,\n",
       " 0.4805251321845704,\n",
       " 0.4805329999947459,\n",
       " 0.480735223796249,\n",
       " 0.4806980361698943,\n",
       " 0.4808744970070646,\n",
       " 0.4805787586559031,\n",
       " 0.48061542225589954,\n",
       " 0.4806641304092121,\n",
       " 0.48073911978425005,\n",
       " 0.48071523948652295,\n",
       " 0.4801867211200014,\n",
       " 0.4798609373555645,\n",
       " 0.4797658508599681,\n",
       " 0.47987255426033243,\n",
       " 0.47922546822241313,\n",
       " 0.4792241617916926,\n",
       " 0.47944511535283824,\n",
       " 0.47936486439320936]"
      ]
     },
     "execution_count": 19,
     "metadata": {},
     "output_type": "execute_result"
    }
   ],
   "source": [
    "results"
   ]
  },
  {
   "cell_type": "markdown",
   "metadata": {},
   "source": [
    "2.testrun"
   ]
  },
  {
   "cell_type": "code",
   "execution_count": 16,
   "metadata": {},
   "outputs": [
    {
     "data": {
      "text/plain": [
       "[0.3399669862499999,\n",
       " 0.3708504498837393,\n",
       " 0.4154070402148753,\n",
       " 0.4294493852682889,\n",
       " 0.4379762575004083,\n",
       " 0.45167127923684147,\n",
       " 0.45507185478756457,\n",
       " 0.4606166772534046,\n",
       " 0.46345134904493623,\n",
       " 0.46654373641575964,\n",
       " 0.470353065774906,\n",
       " 0.4723590465279658,\n",
       " 0.47340037003732804,\n",
       " 0.4764796102118512,\n",
       " 0.4762432194483633,\n",
       " 0.47535694465877326,\n",
       " 0.475883863431412,\n",
       " 0.477428111342586,\n",
       " 0.4751724241985721,\n",
       " 0.47538112461853155,\n",
       " 0.4756848070163806,\n",
       " 0.47668103290286173,\n",
       " 0.4773330855670535,\n",
       " 0.4763176815080672,\n",
       " 0.4746014583451097,\n",
       " 0.47526750114920663,\n",
       " 0.4753409777153133,\n",
       " 0.4749469669481652,\n",
       " 0.47541760993789894,\n",
       " 0.4750354513919084,\n",
       " 0.47506206681121627,\n",
       " 0.47468534347804514,\n",
       " 0.4752641851429524,\n",
       " 0.4747873026208467,\n",
       " 0.47577009959246586,\n",
       " 0.4761901752499194,\n",
       " 0.475435126287254,\n",
       " 0.4755164591559602,\n",
       " 0.4756885082306881,\n",
       " 0.4749081909919541,\n",
       " 0.4744084739215409,\n",
       " 0.47505142402417605,\n",
       " 0.4752686500902343,\n",
       " 0.47531470962570854,\n",
       " 0.4750847180925856,\n",
       " 0.47382150768995995,\n",
       " 0.47358461826742976,\n",
       " 0.47372688151171205,\n",
       " 0.472388520120068,\n",
       " 0.47086469520138347,\n",
       " 0.47130683447075405,\n",
       " 0.47077835207868796,\n",
       " 0.4708944611291771,\n",
       " 0.46953849956172206,\n",
       " 0.469441352269133,\n",
       " 0.46940096995474995,\n",
       " 0.4701278932364424,\n",
       " 0.47019846261273107,\n",
       " 0.4689829628181413,\n",
       " 0.4684449794869467,\n",
       " 0.4680332472589075,\n",
       " 0.4673809782177752,\n",
       " 0.46710659678363353,\n",
       " 0.4668941893085612,\n",
       " 0.46703611535601075,\n",
       " 0.4669888477791073,\n",
       " 0.4674834941326596,\n",
       " 0.46757972369768946,\n",
       " 0.46732904429637007,\n",
       " 0.46764181994908766,\n",
       " 0.4685730206363437,\n",
       " 0.46786377892226194,\n",
       " 0.46858036971353095,\n",
       " 0.46900308291276266,\n",
       " 0.4694464733630594,\n",
       " 0.46971366205800946,\n",
       " 0.46971287378389376,\n",
       " 0.4690485904903413,\n",
       " 0.46927531331781475,\n",
       " 0.46879636517849615]"
      ]
     },
     "execution_count": 16,
     "metadata": {},
     "output_type": "execute_result"
    }
   ],
   "source": [
    "results"
   ]
  },
  {
   "cell_type": "markdown",
   "metadata": {},
   "source": [
    "acdc rain backbone only"
   ]
  },
  {
   "cell_type": "code",
   "execution_count": 17,
   "metadata": {},
   "outputs": [
    {
     "data": {
      "text/plain": [
       "[0.36287334019697687,\n",
       " 0.3819199953724538,\n",
       " 0.4034312655461667,\n",
       " 0.4237906075061121,\n",
       " 0.4365813186149669,\n",
       " 0.44349766934476126,\n",
       " 0.4505042964038954,\n",
       " 0.4604400009026514,\n",
       " 0.4643496220963387,\n",
       " 0.4678617781700541,\n",
       " 0.46808223606559984,\n",
       " 0.4687163686520151,\n",
       " 0.4654062921527496,\n",
       " 0.46760348359735354,\n",
       " 0.4672015471644278,\n",
       " 0.4709273445079209,\n",
       " 0.4709134294696491,\n",
       " 0.47164782024785906,\n",
       " 0.47183590982683216,\n",
       " 0.47083795578772186,\n",
       " 0.4706741348944993,\n",
       " 0.47010230482640974,\n",
       " 0.46947905233769427,\n",
       " 0.47009927466107604,\n",
       " 0.47006929562611094,\n",
       " 0.4701338441523467,\n",
       " 0.46912807768943215,\n",
       " 0.46961793248021333,\n",
       " 0.46931538340976214,\n",
       " 0.4697867694824419,\n",
       " 0.4703684017737018,\n",
       " 0.47090280777209814,\n",
       " 0.47205004313513355,\n",
       " 0.4715416677134609,\n",
       " 0.47138657043765453,\n",
       " 0.47133766631195656,\n",
       " 0.4719079517750922,\n",
       " 0.47105281319385206,\n",
       " 0.471051426793041,\n",
       " 0.47143445151321445,\n",
       " 0.4712742142481384,\n",
       " 0.47088857829595954,\n",
       " 0.4711999331069768,\n",
       " 0.471746812178716,\n",
       " 0.4713991558531397,\n",
       " 0.4711038568692488,\n",
       " 0.4718754772485928,\n",
       " 0.4716492077425183,\n",
       " 0.4716631905173686,\n",
       " 0.47143863047302637,\n",
       " 0.47121994036008547,\n",
       " 0.47098701692441003,\n",
       " 0.4715124452464174,\n",
       " 0.47236924418602066,\n",
       " 0.4722581603031908,\n",
       " 0.4734135268128542,\n",
       " 0.4736986431386281,\n",
       " 0.47329036673998415,\n",
       " 0.473571859954125,\n",
       " 0.4736871246433,\n",
       " 0.4738197429165825,\n",
       " 0.47405711257755073,\n",
       " 0.47435932303443495,\n",
       " 0.47435082592009425,\n",
       " 0.47447165643730504,\n",
       " 0.47434804206618486,\n",
       " 0.47427018131702414,\n",
       " 0.4741987113018211,\n",
       " 0.47395411016437244,\n",
       " 0.47374334962001613,\n",
       " 0.4738460108526496,\n",
       " 0.4733562999495783,\n",
       " 0.4737103245575302,\n",
       " 0.4738888456963038,\n",
       " 0.47373689171250494,\n",
       " 0.47374800954984025,\n",
       " 0.47341024484624666,\n",
       " 0.4740714780251088,\n",
       " 0.47415518679834107,\n",
       " 0.4742216834883025]"
      ]
     },
     "execution_count": 17,
     "metadata": {},
     "output_type": "execute_result"
    }
   ],
   "source": [
    "results"
   ]
  },
  {
   "cell_type": "markdown",
   "metadata": {},
   "source": [
    "acdc rain, adaptation and validation on val set"
   ]
  },
  {
   "cell_type": "code",
   "execution_count": 16,
   "metadata": {},
   "outputs": [
    {
     "data": {
      "text/plain": [
       "[0.34589268293955877,\n",
       " 0.3760385837776261,\n",
       " 0.4027452938915229,\n",
       " 0.41691459390568886,\n",
       " 0.4299512429435893,\n",
       " 0.43491428351281874,\n",
       " 0.4399237570639392,\n",
       " 0.4425655299316052,\n",
       " 0.4485357936326396,\n",
       " 0.4513063728226124,\n",
       " 0.4561659195194859,\n",
       " 0.4551692337080504,\n",
       " 0.45570312665471163,\n",
       " 0.4606297167970872,\n",
       " 0.462920107500661,\n",
       " 0.4628393403508437,\n",
       " 0.46380655844782864,\n",
       " 0.46305647685597534,\n",
       " 0.4641636395425542,\n",
       " 0.4618119432964844,\n",
       " 0.4611464461395764,\n",
       " 0.46062115613347937,\n",
       " 0.4595827607669213,\n",
       " 0.461732587991208,\n",
       " 0.4594189852862199,\n",
       " 0.4578746705287944,\n",
       " 0.4580917125482996,\n",
       " 0.45635949312162466,\n",
       " 0.45667157746831405,\n",
       " 0.4550885810495058,\n",
       " 0.45498957964252434,\n",
       " 0.45316831816163716,\n",
       " 0.45202438079990404,\n",
       " 0.4525415453121128,\n",
       " 0.4529277949095749,\n",
       " 0.45409446207955356,\n",
       " 0.4535362287848049,\n",
       " 0.45234616350509116,\n",
       " 0.4523257044204504,\n",
       " 0.4514481144486509,\n",
       " 0.4522699886885653,\n",
       " 0.4528779323376783,\n",
       " 0.452069401315702,\n",
       " 0.45237392472888527,\n",
       " 0.4525658898111304,\n",
       " 0.4526305408365679,\n",
       " 0.4537250663499874,\n",
       " 0.45522517476800334,\n",
       " 0.4553019049821218,\n",
       " 0.4557087747792121,\n",
       " 0.45445415447869886,\n",
       " 0.45578127994234935,\n",
       " 0.45601435474938934,\n",
       " 0.4554802093398788,\n",
       " 0.45639639724714537,\n",
       " 0.45703481088492737,\n",
       " 0.4571592702387342,\n",
       " 0.4563607911555138,\n",
       " 0.45560298938868754,\n",
       " 0.4561177966100998,\n",
       " 0.4553422540134424,\n",
       " 0.4549813736927157,\n",
       " 0.45478966289787176,\n",
       " 0.45470103229300346,\n",
       " 0.455875988191118,\n",
       " 0.45614752011967785,\n",
       " 0.4561398206437872,\n",
       " 0.4558527295566815,\n",
       " 0.45601322491073787,\n",
       " 0.4564204478047843,\n",
       " 0.45585506169257184,\n",
       " 0.4559629338361755,\n",
       " 0.45616286484267393,\n",
       " 0.45672551546757956,\n",
       " 0.45700920940243417,\n",
       " 0.45634662626791933,\n",
       " 0.45617631036546125,\n",
       " 0.45595866560646714,\n",
       " 0.4557086042626194,\n",
       " 0.4563712984807453]"
      ]
     },
     "execution_count": 16,
     "metadata": {},
     "output_type": "execute_result"
    }
   ],
   "source": [
    "results"
   ]
  },
  {
   "cell_type": "code",
   "execution_count": 15,
   "metadata": {},
   "outputs": [
    {
     "data": {
      "text/plain": [
       "[0.3432499257539529,\n",
       " 0.3719318727334886,\n",
       " 0.39767028579572317,\n",
       " 0.41306827556493936,\n",
       " 0.427049652918232,\n",
       " 0.4367183627748834,\n",
       " 0.43939056734431786,\n",
       " 0.4459270988635629,\n",
       " 0.44852959758740146,\n",
       " 0.4477762174787166,\n",
       " 0.44927457792152053,\n",
       " 0.44929341458786365,\n",
       " 0.4517245977415795,\n",
       " 0.45346355127814847,\n",
       " 0.4512473961942588,\n",
       " 0.4474734138479978,\n",
       " 0.4514705053950651,\n",
       " 0.44867084532194923,\n",
       " 0.45060541180257085,\n",
       " 0.4532175088684704,\n",
       " 0.44991721579355265,\n",
       " 0.4507419908945833,\n",
       " 0.4487084844923634,\n",
       " 0.4463943244584231,\n",
       " 0.44506629927589864,\n",
       " 0.44448014935694186,\n",
       " 0.446927244871074,\n",
       " 0.44620888639062406,\n",
       " 0.44789128899780384,\n",
       " 0.44626405811431785,\n",
       " 0.44507359226715326,\n",
       " 0.4465298238084831,\n",
       " 0.4473995462656344,\n",
       " 0.44737219969708863,\n",
       " 0.4463401368970542,\n",
       " 0.44592381980673895,\n",
       " 0.44628161558831414,\n",
       " 0.4465741044265059,\n",
       " 0.4478020043981653,\n",
       " 0.44934747680318354,\n",
       " 0.44913298057311385,\n",
       " 0.44883291293862304,\n",
       " 0.4487806543672859,\n",
       " 0.4494418705413232,\n",
       " 0.44916376932640184,\n",
       " 0.44935933370382813,\n",
       " 0.4496086051202542,\n",
       " 0.44919711457599165,\n",
       " 0.4489769791033449,\n",
       " 0.44867515292503535,\n",
       " 0.4502869509424406,\n",
       " 0.4495016444884213,\n",
       " 0.44947370969384687,\n",
       " 0.4482265019730612,\n",
       " 0.4480862246384536,\n",
       " 0.44826905885609003,\n",
       " 0.44728770612350727,\n",
       " 0.4464056165211516,\n",
       " 0.44544929687878454,\n",
       " 0.4454070179993423,\n",
       " 0.4464893378317106,\n",
       " 0.44685288564087494,\n",
       " 0.44607943033022673,\n",
       " 0.4459196824160237,\n",
       " 0.4449234998852242,\n",
       " 0.44568516488257887,\n",
       " 0.4465548490750468,\n",
       " 0.44593405590090573,\n",
       " 0.4465203655755981,\n",
       " 0.4464675003244864,\n",
       " 0.44766353293893835,\n",
       " 0.4484658977623812,\n",
       " 0.44796753931894956,\n",
       " 0.44842533727597866,\n",
       " 0.4485827748973568,\n",
       " 0.44763915891646233,\n",
       " 0.4487202655548317,\n",
       " 0.449480984490448,\n",
       " 0.44970783381638835,\n",
       " 0.4493221780748785]"
      ]
     },
     "execution_count": 15,
     "metadata": {},
     "output_type": "execute_result"
    }
   ],
   "source": [
    "results"
   ]
  },
  {
   "cell_type": "code",
   "execution_count": 15,
   "metadata": {},
   "outputs": [
    {
     "data": {
      "text/plain": [
       "[0.3538719028949701,\n",
       " 0.37738609459201916,\n",
       " 0.3933213034922456,\n",
       " 0.41739722903519616,\n",
       " 0.43336413133924223,\n",
       " 0.44418448856424675,\n",
       " 0.44579086549305846,\n",
       " 0.44737746624648606,\n",
       " 0.45220465651534264,\n",
       " 0.4551456742229332,\n",
       " 0.4580085931293883,\n",
       " 0.45852196946167456,\n",
       " 0.4614111222096846,\n",
       " 0.46084422642995304,\n",
       " 0.4612411282189834,\n",
       " 0.46376250314428336,\n",
       " 0.46310151785415615,\n",
       " 0.46367923966843033,\n",
       " 0.46123004307494386,\n",
       " 0.45928567280593013,\n",
       " 0.45767012987861766,\n",
       " 0.4595772906047937,\n",
       " 0.4610583864467732,\n",
       " 0.4596378541750069,\n",
       " 0.4584013926966132,\n",
       " 0.45916408288931965,\n",
       " 0.45799900032273366,\n",
       " 0.4592155211867983,\n",
       " 0.4582648547127694,\n",
       " 0.45904909954503603,\n",
       " 0.45903834228874985,\n",
       " 0.4593717414872558,\n",
       " 0.46123432295413097,\n",
       " 0.4599559344330137,\n",
       " 0.46043667056529197,\n",
       " 0.4615657441907873,\n",
       " 0.46053834533412596,\n",
       " 0.4608858656209016,\n",
       " 0.45960366187879886,\n",
       " 0.45847754173047833,\n",
       " 0.4589914337811838,\n",
       " 0.45850677727655925,\n",
       " 0.4596851322066398,\n",
       " 0.45909668780733937,\n",
       " 0.4581212734376063,\n",
       " 0.4576159991716446,\n",
       " 0.4574887237046691,\n",
       " 0.45749019338366514,\n",
       " 0.4587945961798442,\n",
       " 0.45852162329365787,\n",
       " 0.4582267389710615,\n",
       " 0.4583580155346705,\n",
       " 0.45877565417844973,\n",
       " 0.4584118277827822,\n",
       " 0.4590627552677355,\n",
       " 0.45913473375313174,\n",
       " 0.4587808472034651,\n",
       " 0.4593859303422245,\n",
       " 0.4588670753201341,\n",
       " 0.45869983754809773,\n",
       " 0.4576956055470533,\n",
       " 0.4570125697419437,\n",
       " 0.45779813402903236,\n",
       " 0.4581347402079552,\n",
       " 0.4586828704662185,\n",
       " 0.4592054558968831,\n",
       " 0.4586453301535236,\n",
       " 0.45905821613525566,\n",
       " 0.45898676083076834,\n",
       " 0.4583857156494251,\n",
       " 0.45774597923792465,\n",
       " 0.45736587742223006,\n",
       " 0.45786338888905764,\n",
       " 0.4571953666137366,\n",
       " 0.45742280211700803,\n",
       " 0.457354450961004,\n",
       " 0.45715148478581635,\n",
       " 0.45631326910304254,\n",
       " 0.4570115195052309,\n",
       " 0.45730037494183184]"
      ]
     },
     "execution_count": 15,
     "metadata": {},
     "output_type": "execute_result"
    }
   ],
   "source": [
    "results"
   ]
  },
  {
   "cell_type": "markdown",
   "metadata": {},
   "source": [
    "acdc fog"
   ]
  },
  {
   "cell_type": "code",
   "execution_count": 16,
   "metadata": {},
   "outputs": [
    {
     "data": {
      "text/plain": [
       "[0.4179259660020968,\n",
       " 0.4595477853238565,\n",
       " 0.4798331002997702,\n",
       " 0.4930279270169052,\n",
       " 0.5105715112772993,\n",
       " 0.5216695348955053,\n",
       " 0.5283505080991716,\n",
       " 0.5343859444385002,\n",
       " 0.5397564400592458,\n",
       " 0.5404476018671639,\n",
       " 0.5434406066537409,\n",
       " 0.5436232817317146,\n",
       " 0.5458505166932701,\n",
       " 0.5440105746913899,\n",
       " 0.5421782847628006,\n",
       " 0.5411579076379817,\n",
       " 0.5448121168525969,\n",
       " 0.5455106198567788,\n",
       " 0.5460129571644381,\n",
       " 0.5446360087180434,\n",
       " 0.547168419613405,\n",
       " 0.5504406539839694,\n",
       " 0.5482765705212816,\n",
       " 0.5457886804301602,\n",
       " 0.5430757773177712,\n",
       " 0.5396689697176794,\n",
       " 0.5393500977676485,\n",
       " 0.5385394094855921,\n",
       " 0.5363270963056783,\n",
       " 0.5349822535313672,\n",
       " 0.5340217049372553,\n",
       " 0.5322243969308181,\n",
       " 0.5305949088313714,\n",
       " 0.5322114514739468,\n",
       " 0.5337265590689849,\n",
       " 0.5356527208207538,\n",
       " 0.5345061501205524,\n",
       " 0.5354470447696511,\n",
       " 0.5361098033323725,\n",
       " 0.5380420221154378,\n",
       " 0.5364692985239653,\n",
       " 0.5360250177765371,\n",
       " 0.5361615775022215,\n",
       " 0.5372570759626157,\n",
       " 0.5363648198288126,\n",
       " 0.5350931692384749,\n",
       " 0.5366101061526726,\n",
       " 0.5393327109098042,\n",
       " 0.5392479666154547,\n",
       " 0.5372048353029456,\n",
       " 0.5387313565497757,\n",
       " 0.5412331441918573,\n",
       " 0.5408971850673439,\n",
       " 0.5411884938570681,\n",
       " 0.5402069431409944,\n",
       " 0.5405550663483667,\n",
       " 0.5399617402129148,\n",
       " 0.5383926634989643,\n",
       " 0.5369833400586793,\n",
       " 0.5365199566608395,\n",
       " 0.5365434710884847,\n",
       " 0.5353233362973601,\n",
       " 0.535057256980461,\n",
       " 0.5344864125632478,\n",
       " 0.533502288873385,\n",
       " 0.5340327131758187,\n",
       " 0.533656836425625,\n",
       " 0.533583366569689,\n",
       " 0.5327584148849693,\n",
       " 0.5314765914512546,\n",
       " 0.5314240590734004,\n",
       " 0.5308077145709686,\n",
       " 0.5291256393751915,\n",
       " 0.5292851345496734,\n",
       " 0.5283572791799113,\n",
       " 0.528914655003264,\n",
       " 0.5280910427945831,\n",
       " 0.5290778102531326,\n",
       " 0.5298636325184731,\n",
       " 0.5300923941149464]"
      ]
     },
     "execution_count": 16,
     "metadata": {},
     "output_type": "execute_result"
    }
   ],
   "source": [
    "results"
   ]
  },
  {
   "cell_type": "code",
   "execution_count": 17,
   "metadata": {},
   "outputs": [
    {
     "data": {
      "text/plain": [
       "[0.40366273376026046,\n",
       " 0.45498634727319265,\n",
       " 0.4876196450401517,\n",
       " 0.49827970281426137,\n",
       " 0.5028277914104953,\n",
       " 0.5105743689629115,\n",
       " 0.5162051746369327,\n",
       " 0.5178956595849075,\n",
       " 0.5220297616055817,\n",
       " 0.5332046594787814,\n",
       " 0.5357598413636778,\n",
       " 0.5440464035969775,\n",
       " 0.5511246637056098,\n",
       " 0.5500267554928504,\n",
       " 0.5504965771838175,\n",
       " 0.5496094690069097,\n",
       " 0.5553518024147736,\n",
       " 0.5553064620879878,\n",
       " 0.5548829639250141,\n",
       " 0.5533087751843278,\n",
       " 0.5483849161505169,\n",
       " 0.5481701072870028,\n",
       " 0.5454959308248034,\n",
       " 0.5421471286029756,\n",
       " 0.541321421925301,\n",
       " 0.5401337705482425,\n",
       " 0.5398874702416379,\n",
       " 0.5393729021905304,\n",
       " 0.53713389122389,\n",
       " 0.5370976779148918,\n",
       " 0.5374716713115391,\n",
       " 0.5359368676584582,\n",
       " 0.5348946061888115,\n",
       " 0.5374501398261733,\n",
       " 0.5359135322926634,\n",
       " 0.5354362581984785,\n",
       " 0.5342662361786218,\n",
       " 0.5327675672668724,\n",
       " 0.5308332244447034,\n",
       " 0.5320125399222057,\n",
       " 0.5320750273514342,\n",
       " 0.5298269209995643,\n",
       " 0.5297322029503345,\n",
       " 0.5278852183867516,\n",
       " 0.5292243271417436,\n",
       " 0.5271912723548531,\n",
       " 0.5266647193542461,\n",
       " 0.5284312953737172,\n",
       " 0.528724795738935,\n",
       " 0.530068389874268,\n",
       " 0.5280368021595933,\n",
       " 0.5295845871687185,\n",
       " 0.5284762787338613,\n",
       " 0.5278633430593163,\n",
       " 0.5277482354439694,\n",
       " 0.527557009352875,\n",
       " 0.5271865422446665,\n",
       " 0.5284206485310768,\n",
       " 0.5269683335926706,\n",
       " 0.525202010787298,\n",
       " 0.5226463714924645,\n",
       " 0.5225190859558361,\n",
       " 0.5235615445221777,\n",
       " 0.5252421679152388,\n",
       " 0.5249001566553069,\n",
       " 0.5242919327815961,\n",
       " 0.524308986226918,\n",
       " 0.5231658248553961,\n",
       " 0.525754972927449,\n",
       " 0.5245850673305164,\n",
       " 0.5258869431186259,\n",
       " 0.523604013168294,\n",
       " 0.5240704485456152,\n",
       " 0.5227926584996359,\n",
       " 0.5247689141178324,\n",
       " 0.5250296018413325,\n",
       " 0.5252241323441377,\n",
       " 0.5245958763714418,\n",
       " 0.5246764123088846,\n",
       " 0.5254630256996657]"
      ]
     },
     "execution_count": 17,
     "metadata": {},
     "output_type": "execute_result"
    }
   ],
   "source": [
    "results"
   ]
  },
  {
   "cell_type": "markdown",
   "metadata": {},
   "source": [
    "acdc fog backbone only"
   ]
  },
  {
   "cell_type": "code",
   "execution_count": 16,
   "metadata": {},
   "outputs": [
    {
     "data": {
      "text/plain": [
       "[0.42880348465839424,\n",
       " 0.4600999589189058,\n",
       " 0.47794175751601137,\n",
       " 0.48879282522257644,\n",
       " 0.5116729708839318,\n",
       " 0.5278547709939149,\n",
       " 0.5315847978583579,\n",
       " 0.5361419650954897,\n",
       " 0.5393384491554783,\n",
       " 0.5360484129502252,\n",
       " 0.5438893113807822,\n",
       " 0.5435251671249093,\n",
       " 0.5451804410836679,\n",
       " 0.549203127657574,\n",
       " 0.5466154998883366,\n",
       " 0.5434195755834812,\n",
       " 0.5485542536519952,\n",
       " 0.5506966942925188,\n",
       " 0.5469906872235066,\n",
       " 0.5450231322831247,\n",
       " 0.5445099491870973,\n",
       " 0.5436141208792783,\n",
       " 0.5456647821601034,\n",
       " 0.5456067005162888,\n",
       " 0.5435707454280183,\n",
       " 0.5475508318365646,\n",
       " 0.5497605522933593,\n",
       " 0.549091850808686,\n",
       " 0.5480041127060878,\n",
       " 0.54635304703937,\n",
       " 0.5480144001192665,\n",
       " 0.5502687815362087,\n",
       " 0.5499261090183638,\n",
       " 0.5501213005493782,\n",
       " 0.5495594229803565,\n",
       " 0.5529048768254107,\n",
       " 0.55184312053884,\n",
       " 0.5528363656140692,\n",
       " 0.5528847589950843,\n",
       " 0.5535708798084291,\n",
       " 0.5553997493962706,\n",
       " 0.5543223519183603,\n",
       " 0.5555971535485861,\n",
       " 0.5558886963634763,\n",
       " 0.5574708204562189,\n",
       " 0.5585117563270793,\n",
       " 0.5591699806294405,\n",
       " 0.5574484229402898,\n",
       " 0.5568223418518514,\n",
       " 0.5573557067753484,\n",
       " 0.5574633040073366,\n",
       " 0.5565858798840955,\n",
       " 0.5560679712623562,\n",
       " 0.5565888992825618,\n",
       " 0.5554170092499269,\n",
       " 0.5554676749016819,\n",
       " 0.5546220173942833,\n",
       " 0.5551684550382001,\n",
       " 0.5551477996775948,\n",
       " 0.5540660531484869,\n",
       " 0.5535877753503414,\n",
       " 0.554515426613092,\n",
       " 0.5542280405034115,\n",
       " 0.5547874855516427,\n",
       " 0.5546466746825613,\n",
       " 0.5545637633304906,\n",
       " 0.5542259253679703,\n",
       " 0.5534083471594663,\n",
       " 0.5543893642301823,\n",
       " 0.5534388900880882,\n",
       " 0.5537876585651726,\n",
       " 0.5540204921787822,\n",
       " 0.5528633148486404,\n",
       " 0.5537106647116695,\n",
       " 0.5546666810595873,\n",
       " 0.5541334417327711,\n",
       " 0.554454069992284,\n",
       " 0.5538263408420125,\n",
       " 0.5548976810672042,\n",
       " 0.5539876931857727]"
      ]
     },
     "execution_count": 16,
     "metadata": {},
     "output_type": "execute_result"
    }
   ],
   "source": [
    "results"
   ]
  },
  {
   "cell_type": "markdown",
   "metadata": {},
   "source": [
    "acdc fog adaptation and validation on val set"
   ]
  },
  {
   "cell_type": "code",
   "execution_count": 16,
   "metadata": {},
   "outputs": [
    {
     "data": {
      "text/plain": [
       "[0.4217933112317977,\n",
       " 0.46524820934034206,\n",
       " 0.4912217434591814,\n",
       " 0.5027961084716165,\n",
       " 0.5155598293102625,\n",
       " 0.5229608249443372,\n",
       " 0.5272043497511321,\n",
       " 0.5326661689232676,\n",
       " 0.541781534976086,\n",
       " 0.5435440667741297,\n",
       " 0.5380014964764964,\n",
       " 0.5406361513333598,\n",
       " 0.5400130292191507,\n",
       " 0.547783420106526,\n",
       " 0.5475542813934962,\n",
       " 0.5471766436765666,\n",
       " 0.550594541703768,\n",
       " 0.548905203467531,\n",
       " 0.545232762725952,\n",
       " 0.5486011566332202,\n",
       " 0.5522036434636108,\n",
       " 0.5549303118547032,\n",
       " 0.55655157862112,\n",
       " 0.557613186638025,\n",
       " 0.5586360372901918,\n",
       " 0.5595855766583526,\n",
       " 0.5620671924013295,\n",
       " 0.5646233559729876,\n",
       " 0.5645702673728024,\n",
       " 0.5616715221559062,\n",
       " 0.559298116825359,\n",
       " 0.5617002784506676,\n",
       " 0.5600373126211582,\n",
       " 0.5587004450953771,\n",
       " 0.5601568374570691,\n",
       " 0.5599626246220445,\n",
       " 0.5589786976595008,\n",
       " 0.5590243668697059,\n",
       " 0.5580440414094971,\n",
       " 0.559020488296464,\n",
       " 0.5595531558626234,\n",
       " 0.5581237491897934,\n",
       " 0.5563100672323703,\n",
       " 0.5557167296457424,\n",
       " 0.5545310515673979,\n",
       " 0.5558865250622544,\n",
       " 0.554203483789761,\n",
       " 0.5522152560204482,\n",
       " 0.5534145080660433,\n",
       " 0.5531975051727447,\n",
       " 0.55360828531406,\n",
       " 0.5520923740239231,\n",
       " 0.551636579129343,\n",
       " 0.5507431496706544,\n",
       " 0.550568956998778,\n",
       " 0.550076166961049,\n",
       " 0.5503492609850513,\n",
       " 0.5511840070065906,\n",
       " 0.5510323181871201,\n",
       " 0.5520464821792577,\n",
       " 0.5521621633499298,\n",
       " 0.5537430234945324,\n",
       " 0.5546217501049027,\n",
       " 0.5542186570729538,\n",
       " 0.553685342208966,\n",
       " 0.5530418447283791,\n",
       " 0.5536453463652145,\n",
       " 0.5548924622301596,\n",
       " 0.5535567204246735,\n",
       " 0.5545585382033267,\n",
       " 0.5556125149413199,\n",
       " 0.5556357955917087,\n",
       " 0.5540387668850968,\n",
       " 0.5534551802980706,\n",
       " 0.5538949331207667,\n",
       " 0.5552984234727728,\n",
       " 0.5560986353741743,\n",
       " 0.5573874710841015,\n",
       " 0.5576395413751818,\n",
       " 0.558787276503547]"
      ]
     },
     "execution_count": 16,
     "metadata": {},
     "output_type": "execute_result"
    }
   ],
   "source": [
    "results"
   ]
  },
  {
   "cell_type": "markdown",
   "metadata": {},
   "source": [
    "cityscapes fog train adaptation"
   ]
  },
  {
   "cell_type": "code",
   "execution_count": 16,
   "metadata": {},
   "outputs": [
    {
     "data": {
      "text/plain": [
       "[0.6481392202339523,\n",
       " 0.6587200715412002,\n",
       " 0.6567550728484072,\n",
       " 0.6626212196361815,\n",
       " 0.6656450635872477,\n",
       " 0.6664514863334438,\n",
       " 0.6672239209876905,\n",
       " 0.6676128898012856,\n",
       " 0.6681204599971666,\n",
       " 0.668659305812259,\n",
       " 0.6683618804786404,\n",
       " 0.6674184415709441,\n",
       " 0.6655784012471536,\n",
       " 0.6629228686475791,\n",
       " 0.662580612456917,\n",
       " 0.6632397209250653,\n",
       " 0.6638136178765043,\n",
       " 0.667477743319842,\n",
       " 0.6651720788558948,\n",
       " 0.6657186610721443,\n",
       " 0.6621586600354802,\n",
       " 0.6625498828788409,\n",
       " 0.6627196731842938,\n",
       " 0.6622501929607776,\n",
       " 0.661860584503466,\n",
       " 0.6620816225425006,\n",
       " 0.6617222183391614,\n",
       " 0.6626160210996981,\n",
       " 0.6624042307839172,\n",
       " 0.6631680333855138,\n",
       " 0.6635222518153464,\n",
       " 0.6634431266883472,\n",
       " 0.6634856748237966,\n",
       " 0.6634478036618627,\n",
       " 0.6626806163127901,\n",
       " 0.6631708828198603,\n",
       " 0.6630375381504079,\n",
       " 0.6619038135365095,\n",
       " 0.6619558320444557,\n",
       " 0.6619850536893968,\n",
       " 0.6619369280131314,\n",
       " 0.66217246986407,\n",
       " 0.6627156727695317,\n",
       " 0.6618900229213813,\n",
       " 0.6622812778772607,\n",
       " 0.6617631963008194,\n",
       " 0.662630812899018,\n",
       " 0.6621699360743535,\n",
       " 0.6615483383079389,\n",
       " 0.6615583791982561,\n",
       " 0.6608396449099166,\n",
       " 0.6608855137656008,\n",
       " 0.6602516288889453,\n",
       " 0.6594974526988646,\n",
       " 0.6591326285106908,\n",
       " 0.6590175873592251,\n",
       " 0.6592082695139435,\n",
       " 0.659561907191344,\n",
       " 0.6597085381506778,\n",
       " 0.6599811630038879,\n",
       " 0.6589840322248609,\n",
       " 0.6587011820352565,\n",
       " 0.6591542663622122,\n",
       " 0.6590841362872559,\n",
       " 0.6588109526566337,\n",
       " 0.6591791864089585,\n",
       " 0.6592123784154493,\n",
       " 0.6597351492209035,\n",
       " 0.6595404709867357,\n",
       " 0.6593807157314747,\n",
       " 0.6590238909635164,\n",
       " 0.6588016289378729,\n",
       " 0.6592490915731521,\n",
       " 0.6597234018322954,\n",
       " 0.6594614979391549,\n",
       " 0.6594910057895408,\n",
       " 0.6595549428376086,\n",
       " 0.6593393036828881,\n",
       " 0.6590239058297432,\n",
       " 0.6591861007984964]"
      ]
     },
     "execution_count": 16,
     "metadata": {},
     "output_type": "execute_result"
    }
   ],
   "source": [
    "results"
   ]
  },
  {
   "cell_type": "markdown",
   "metadata": {},
   "source": [
    "cityscapes fog val adaptation "
   ]
  },
  {
   "cell_type": "code",
   "execution_count": 27,
   "metadata": {},
   "outputs": [
    {
     "data": {
      "text/plain": [
       "[0.6486378098138081,\n",
       " 0.6530596042522123,\n",
       " 0.6576112123441219,\n",
       " 0.6633468964125697,\n",
       " 0.6656263392476721,\n",
       " 0.6685528391158426,\n",
       " 0.6703093663878957,\n",
       " 0.6706799997150047,\n",
       " 0.6713792122065719,\n",
       " 0.6725736594067386,\n",
       " 0.674734476306424,\n",
       " 0.6753769006678368,\n",
       " 0.6739544547369035,\n",
       " 0.672518078301109,\n",
       " 0.6712299118719689,\n",
       " 0.6708664823102284,\n",
       " 0.6706907931373409,\n",
       " 0.6683583435331937,\n",
       " 0.66881773288257,\n",
       " 0.6684461378036467,\n",
       " 0.6671762151013129,\n",
       " 0.6669452634442662,\n",
       " 0.6668210869496118,\n",
       " 0.6669318618623119,\n",
       " 0.666594795134239,\n",
       " 0.6665391451169185,\n",
       " 0.6657532383180694,\n",
       " 0.6676761272713531,\n",
       " 0.6695559450151048,\n",
       " 0.6697867667659019,\n",
       " 0.6694050545500523,\n",
       " 0.6695418877135415,\n",
       " 0.669589545452666,\n",
       " 0.6694326970759651,\n",
       " 0.6690622224238202,\n",
       " 0.6687263499808138,\n",
       " 0.668206690657578,\n",
       " 0.6681996742505921,\n",
       " 0.6673825201021062,\n",
       " 0.6661901478642002,\n",
       " 0.6660458281427186,\n",
       " 0.6659199404942046,\n",
       " 0.6656890858231741,\n",
       " 0.6650084398886302,\n",
       " 0.6647549172735209,\n",
       " 0.664146328973904,\n",
       " 0.6637961437586765,\n",
       " 0.6631078043064502,\n",
       " 0.662986904029377,\n",
       " 0.6628521614178725,\n",
       " 0.6627037839049191,\n",
       " 0.6634184900117024,\n",
       " 0.6632096528793077,\n",
       " 0.6629177070746186,\n",
       " 0.6630523334239051,\n",
       " 0.6634353719076935,\n",
       " 0.6633704793482278,\n",
       " 0.6633596996348535,\n",
       " 0.6631994794065829,\n",
       " 0.6633295180080855,\n",
       " 0.6631099978487399,\n",
       " 0.6633386361151209,\n",
       " 0.6634946420863657,\n",
       " 0.6635870666095067,\n",
       " 0.6640056463092705,\n",
       " 0.6637007697737554,\n",
       " 0.6627633357900574,\n",
       " 0.6627591008913546,\n",
       " 0.6623967479954613,\n",
       " 0.6622604301604541,\n",
       " 0.6623002907202511,\n",
       " 0.6626060715806728,\n",
       " 0.662699480192255,\n",
       " 0.6634264602220293,\n",
       " 0.6631957404227464,\n",
       " 0.662830181320941,\n",
       " 0.6628253033256027,\n",
       " 0.6619879539814091,\n",
       " 0.6621780556290464,\n",
       " 0.6618667335775917]"
      ]
     },
     "execution_count": 27,
     "metadata": {},
     "output_type": "execute_result"
    }
   ],
   "source": [
    "results"
   ]
  },
  {
   "cell_type": "markdown",
   "metadata": {},
   "source": [
    "cityscapes rain adaption on train"
   ]
  },
  {
   "cell_type": "code",
   "execution_count": 17,
   "metadata": {},
   "outputs": [
    {
     "data": {
      "text/plain": [
       "[0.5185679770823309,\n",
       " 0.5363141317460808,\n",
       " 0.5485649914052527,\n",
       " 0.5622206638771065,\n",
       " 0.5730894297622422,\n",
       " 0.5807707596549841,\n",
       " 0.5829549004310819,\n",
       " 0.5877890852790915,\n",
       " 0.5902769064180536,\n",
       " 0.5921669408678931,\n",
       " 0.5907398611326619,\n",
       " 0.5891390073841061,\n",
       " 0.5894710587892886,\n",
       " 0.59198079882937,\n",
       " 0.5895271909907736,\n",
       " 0.5892144783554818,\n",
       " 0.5898702861611402,\n",
       " 0.5904537163995373,\n",
       " 0.593093966219925,\n",
       " 0.5944125620477667,\n",
       " 0.5924851927908139,\n",
       " 0.5936723806051762,\n",
       " 0.5911122175228827,\n",
       " 0.5912613638872654,\n",
       " 0.5909239342017238,\n",
       " 0.5924613993911074,\n",
       " 0.5913890713249317,\n",
       " 0.5920704969128471,\n",
       " 0.5923071850977177,\n",
       " 0.5925113606991549,\n",
       " 0.5924013367369101,\n",
       " 0.5924109399221709,\n",
       " 0.5928552793128959,\n",
       " 0.5939134640014533,\n",
       " 0.5937671477347909,\n",
       " 0.5943682654253786,\n",
       " 0.5949574997715835,\n",
       " 0.5954948833731919,\n",
       " 0.5963222343797208,\n",
       " 0.5961380923703438,\n",
       " 0.5968397452377894,\n",
       " 0.596302307328578,\n",
       " 0.596837115252294,\n",
       " 0.5971633382508429,\n",
       " 0.5967905368579102,\n",
       " 0.5973678122896272,\n",
       " 0.5976450956512468,\n",
       " 0.597601941619612,\n",
       " 0.5975156093424181,\n",
       " 0.5975011110141625,\n",
       " 0.5970665852760382,\n",
       " 0.5965085359386173,\n",
       " 0.5962520951351752,\n",
       " 0.5957488385352336,\n",
       " 0.5949401690071093,\n",
       " 0.5945759540862888,\n",
       " 0.5946559909144415,\n",
       " 0.5943539490262572,\n",
       " 0.5950313886127896,\n",
       " 0.5948754595838824,\n",
       " 0.5946415671162135,\n",
       " 0.5946797127916874,\n",
       " 0.5941605098787841,\n",
       " 0.5941707555876484,\n",
       " 0.5940138992354587,\n",
       " 0.5935416377977124,\n",
       " 0.5941711901127821,\n",
       " 0.5935468233477607,\n",
       " 0.5933100015279399,\n",
       " 0.5927673541732273,\n",
       " 0.592865860927729,\n",
       " 0.5933654218770479,\n",
       " 0.593422673115851,\n",
       " 0.594203881738562,\n",
       " 0.5943991376360119,\n",
       " 0.5948476559175836,\n",
       " 0.5954497411002792,\n",
       " 0.5953259683791496,\n",
       " 0.5955235993839364,\n",
       " 0.5955038582667056]"
      ]
     },
     "execution_count": 17,
     "metadata": {},
     "output_type": "execute_result"
    }
   ],
   "source": [
    "results"
   ]
  },
  {
   "cell_type": "markdown",
   "metadata": {},
   "source": [
    "cityscapes rain, adaptation and validation on val set"
   ]
  },
  {
   "cell_type": "code",
   "execution_count": 19,
   "metadata": {},
   "outputs": [
    {
     "data": {
      "text/plain": [
       "[0.524217176131537,\n",
       " 0.534658630625097,\n",
       " 0.5440443861981522,\n",
       " 0.5571952506309825,\n",
       " 0.5649325150188156,\n",
       " 0.5684358540394493,\n",
       " 0.570375291655611,\n",
       " 0.5763165885936994,\n",
       " 0.5795915540730254,\n",
       " 0.5785096066144567,\n",
       " 0.5802279133751775,\n",
       " 0.5841991186434793,\n",
       " 0.5853719429885222,\n",
       " 0.5854308727771932,\n",
       " 0.5837749469502078,\n",
       " 0.5846104881071712,\n",
       " 0.5847644300414407,\n",
       " 0.5877581918012259,\n",
       " 0.5865059797935943,\n",
       " 0.5863870630718757,\n",
       " 0.5870547573787653,\n",
       " 0.5870645178710666,\n",
       " 0.5883612569552631,\n",
       " 0.5878617447301149,\n",
       " 0.589108355065346,\n",
       " 0.5887846265190301,\n",
       " 0.5900899478939985,\n",
       " 0.5898560778351346,\n",
       " 0.5886320300311705,\n",
       " 0.5902838706236736,\n",
       " 0.5884415268629298,\n",
       " 0.5883900425275291,\n",
       " 0.588960159980166,\n",
       " 0.589360298700421,\n",
       " 0.5902800024644529,\n",
       " 0.5912114537568469,\n",
       " 0.5908985337083829,\n",
       " 0.591119539093099,\n",
       " 0.591303356376169,\n",
       " 0.592063229669057,\n",
       " 0.5921843079463297,\n",
       " 0.5915486373483885,\n",
       " 0.591862580858852,\n",
       " 0.5924866541200096,\n",
       " 0.5926003581137875,\n",
       " 0.5924160613090845,\n",
       " 0.5927139751797489,\n",
       " 0.5933570211738745,\n",
       " 0.5931123613412032,\n",
       " 0.5927232066359401,\n",
       " 0.5917617667110899,\n",
       " 0.5924976987306579,\n",
       " 0.5924673938689058,\n",
       " 0.5925243411422375,\n",
       " 0.5926124053869938,\n",
       " 0.5924194952030956,\n",
       " 0.5926771046906008,\n",
       " 0.5933996395049546,\n",
       " 0.5927621310741259,\n",
       " 0.5927341177323029,\n",
       " 0.5930152447510304,\n",
       " 0.5931072209542133,\n",
       " 0.5926528821385681,\n",
       " 0.5932914326503953,\n",
       " 0.5937429622723291,\n",
       " 0.5937716659445303,\n",
       " 0.5939478284360274,\n",
       " 0.5938115209753075,\n",
       " 0.5939882202787463,\n",
       " 0.5940209436706051,\n",
       " 0.5941439470247972,\n",
       " 0.5941889291923313,\n",
       " 0.5936915199419007,\n",
       " 0.5937551920118362,\n",
       " 0.5941075851875168,\n",
       " 0.5944500907632523,\n",
       " 0.5948333492551677,\n",
       " 0.594299712493452,\n",
       " 0.5945799643972405,\n",
       " 0.5944449820732632]"
      ]
     },
     "execution_count": 19,
     "metadata": {},
     "output_type": "execute_result"
    }
   ],
   "source": [
    "results"
   ]
  },
  {
   "cell_type": "markdown",
   "metadata": {},
   "source": [
    "DEBUG"
   ]
  },
  {
   "cell_type": "code",
   "execution_count": 8,
   "metadata": {},
   "outputs": [],
   "source": [
    "import utils\n",
    "import numpy as np\n",
    "from PIL import Image\n",
    "denorm = utils.Denormalize(mean=[0.485, 0.456, 0.406],\n",
    "                            std=[0.229, 0.224, 0.225])"
   ]
  },
  {
   "cell_type": "code",
   "execution_count": 18,
   "metadata": {},
   "outputs": [
    {
     "ename": "NameError",
     "evalue": "name 'cityscapes_train_loader' is not defined",
     "output_type": "error",
     "traceback": [
      "\u001b[0;31m---------------------------------------------------------------------------\u001b[0m",
      "\u001b[0;31mNameError\u001b[0m                                 Traceback (most recent call last)",
      "Cell \u001b[0;32mIn[18], line 1\u001b[0m\n\u001b[0;32m----> 1\u001b[0m image, _ \u001b[38;5;241m=\u001b[39m \u001b[38;5;28mnext\u001b[39m(\u001b[38;5;28miter\u001b[39m(cityscapes_train_loader))\n\u001b[1;32m      2\u001b[0m inputs \u001b[38;5;241m=\u001b[39m get_adaption_inputs(image, tr_transform_adapt, device)\n\u001b[1;32m      3\u001b[0m \u001b[38;5;28;01mfor\u001b[39;00m i \u001b[38;5;129;01min\u001b[39;00m \u001b[38;5;28mrange\u001b[39m(\u001b[38;5;28mlen\u001b[39m(inputs)):\n",
      "\u001b[0;31mNameError\u001b[0m: name 'cityscapes_train_loader' is not defined"
     ]
    }
   ],
   "source": [
    "image, _ = next(iter(cityscapes_train_loader))\n",
    "inputs = get_adaption_inputs(image, tr_transform_adapt, device)\n",
    "for i in range(len(inputs)):\n",
    "        image = inputs[i].detach().cpu().numpy()\n",
    "\n",
    "        image = (denorm(image) * 255).transpose(1, 2, 0).astype(np.uint8)\n",
    "        Image.fromarray(image).save('results/test_image_{}.png'.format(i))"
   ]
  },
  {
   "cell_type": "code",
   "execution_count": 12,
   "metadata": {},
   "outputs": [],
   "source": [
    "validation_set = datasets.acdc.Acdc(r\"/vol/tmp/phanfran/acdc/\", 'val', 'semantic',transform=val_transform, weather=WEATHER)\n",
    "BATCH_SIZE = 3\n",
    "val_loader = data.DataLoader(\n",
    "        validation_set, batch_size=BATCH_SIZE, shuffle=False, num_workers=8,\n",
    "        drop_last=True)"
   ]
  },
  {
   "cell_type": "code",
   "execution_count": 9,
   "metadata": {},
   "outputs": [],
   "source": [
    "cityscapes_val = Cityscapes(root='/vol/tmp/phanfran/cityscapes/',\n",
    "                             subset=WEATHER,\n",
    "                             split='val',\n",
    "                             transform=val_transform)\n",
    "\n",
    "BATCH_SIZE = 5\n",
    "cityscapes_val_loader = data.DataLoader(\n",
    "        cityscapes_val, batch_size=BATCH_SIZE, shuffle=False, num_workers=2,\n",
    "        drop_last=True)"
   ]
  },
  {
   "cell_type": "code",
   "execution_count": 10,
   "metadata": {},
   "outputs": [],
   "source": [
    "images, targets = next(iter(cityscapes_val_loader))"
   ]
  },
  {
   "cell_type": "code",
   "execution_count": 11,
   "metadata": {},
   "outputs": [],
   "source": [
    "model.eval()\n",
    "image = images.to(device, dtype=torch.float32)\n",
    "labels = targets.to(device, dtype=torch.long)\n",
    "output = model(image)\n",
    "\n",
    "preds = output['out'].max(dim=1)[1].cpu().numpy()\n",
    "targets = labels.cpu().numpy()\n",
    "\n",
    "for i in range(len(images)):\n",
    "    image = images[i].detach().cpu().numpy()\n",
    "    target = targets[i]\n",
    "    pred = preds[i]\n",
    "\n",
    "    image = (denorm(image) * 255).transpose(1, 2, 0).astype(np.uint8)\n",
    "    decode_target = cityscapes_val_loader.dataset.decode_target(target).astype(np.uint8)\n",
    "    decode_pred = cityscapes_val_loader.dataset.decode_target(pred).astype(np.uint8)\n",
    "\n",
    "    Image.fromarray(image).save('results/test_image_CS_fog_{}.png'.format(i))\n",
    "    Image.fromarray(decode_target).save('results/test_target_CS_fog_{}.png'.format(i))\n",
    "    Image.fromarray(decode_pred).save('results/test_pred_CS_fog_adapted_{}.png'.format(i))"
   ]
  },
  {
   "cell_type": "code",
   "execution_count": null,
   "metadata": {},
   "outputs": [],
   "source": []
  }
 ],
 "metadata": {
  "kernelspec": {
   "display_name": "bachelor",
   "language": "python",
   "name": "python3"
  },
  "language_info": {
   "codemirror_mode": {
    "name": "ipython",
    "version": 3
   },
   "file_extension": ".py",
   "mimetype": "text/x-python",
   "name": "python",
   "nbconvert_exporter": "python",
   "pygments_lexer": "ipython3",
   "version": "3.11.4"
  },
  "orig_nbformat": 4
 },
 "nbformat": 4,
 "nbformat_minor": 2
}
